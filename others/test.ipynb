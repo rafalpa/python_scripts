{
 "cells": [
  {
   "cell_type": "code",
   "execution_count": 1,
   "metadata": {
    "collapsed": true
   },
   "outputs": [],
   "source": [
    "import pyspark\n",
    "sc = pyspark.SparkContext(appName=\"test1\")"
   ]
  },
  {
   "cell_type": "code",
   "execution_count": 7,
   "metadata": {
    "collapsed": false,
    "scrolled": true
   },
   "outputs": [
    {
     "data": {
      "text/plain": [
       "['  <row Id=\"1\" TagName=\"mysql\" Count=\"13032\" ExcerptPostId=\"2667\" WikiPostId=\"2666\" />',\n",
       " '  <row Id=\"2\" TagName=\"innodb\" Count=\"1492\" ExcerptPostId=\"3131\" WikiPostId=\"3130\" />',\n",
       " '  <row Id=\"3\" TagName=\"myisam\" Count=\"374\" ExcerptPostId=\"3144\" WikiPostId=\"3143\" />',\n",
       " '  <row Id=\"4\" TagName=\"schema\" Count=\"619\" ExcerptPostId=\"4367\" WikiPostId=\"4366\" />',\n",
       " '  <row Id=\"6\" TagName=\"nosql\" Count=\"242\" ExcerptPostId=\"13428\" WikiPostId=\"13427\" />']"
      ]
     },
     "execution_count": 7,
     "metadata": {},
     "output_type": "execute_result"
    }
   ],
   "source": [
    "xml_file=sc.textFile('data/Tags.xml')\n",
    "tags=xml_file.filter(lambda l: l.strip().startswith(\"<row\"))\n",
    "tags.take(5)"
   ]
  },
  {
   "cell_type": "code",
   "execution_count": 14,
   "metadata": {
    "collapsed": true
   },
   "outputs": [],
   "source": [
    "clean_tags = tags\\\n",
    "    .map(lambda l: l.replace(\"<row \",\"\").replace(\" />\",\"\").strip().split())"
   ]
  },
  {
   "cell_type": "code",
   "execution_count": 16,
   "metadata": {
    "collapsed": false,
    "scrolled": true
   },
   "outputs": [
    {
     "data": {
      "text/plain": [
       "[['Id=\"1\"',\n",
       "  'TagName=\"mysql\"',\n",
       "  'Count=\"13032\"',\n",
       "  'ExcerptPostId=\"2667\"',\n",
       "  'WikiPostId=\"2666\"'],\n",
       " ['Id=\"2\"',\n",
       "  'TagName=\"innodb\"',\n",
       "  'Count=\"1492\"',\n",
       "  'ExcerptPostId=\"3131\"',\n",
       "  'WikiPostId=\"3130\"']]"
      ]
     },
     "execution_count": 16,
     "metadata": {},
     "output_type": "execute_result"
    }
   ],
   "source": [
    "clean_tags.take(2)"
   ]
  },
  {
   "cell_type": "code",
   "execution_count": 29,
   "metadata": {
    "collapsed": false
   },
   "outputs": [
    {
     "data": {
      "text/plain": [
       "[{'Count': '\"13032\"',\n",
       "  'ExcerptPostId': '\"2667\"',\n",
       "  'Id': '\"1\"',\n",
       "  'TagName': '\"mysql\"',\n",
       "  'WikiPostId': '\"2666\"'},\n",
       " {'Count': '\"1492\"',\n",
       "  'ExcerptPostId': '\"3131\"',\n",
       "  'Id': '\"2\"',\n",
       "  'TagName': '\"innodb\"',\n",
       "  'WikiPostId': '\"3130\"'},\n",
       " {'Count': '\"374\"',\n",
       "  'ExcerptPostId': '\"3144\"',\n",
       "  'Id': '\"3\"',\n",
       "  'TagName': '\"myisam\"',\n",
       "  'WikiPostId': '\"3143\"'},\n",
       " {'Count': '\"619\"',\n",
       "  'ExcerptPostId': '\"4367\"',\n",
       "  'Id': '\"4\"',\n",
       "  'TagName': '\"schema\"',\n",
       "  'WikiPostId': '\"4366\"'},\n",
       " {'Count': '\"242\"',\n",
       "  'ExcerptPostId': '\"13428\"',\n",
       "  'Id': '\"6\"',\n",
       "  'TagName': '\"nosql\"',\n",
       "  'WikiPostId': '\"13427\"'}]"
      ]
     },
     "execution_count": 29,
     "metadata": {},
     "output_type": "execute_result"
    }
   ],
   "source": [
    "key_value = clean_tags.map(lambda l: dict(i.split(\"=\") for i in l))\n",
    "key_value.take(5)"
   ]
  },
  {
   "cell_type": "code",
   "execution_count": 6,
   "metadata": {
    "collapsed": false
   },
   "outputs": [
    {
     "data": {
      "text/plain": [
       "[{'Count': '\"13032\"',\n",
       "  'ExcerptPostId': '\"2667\"',\n",
       "  'Id': '\"1\"',\n",
       "  'TagName': '\"mysql\"',\n",
       "  'WikiPostId': '\"2666\"'},\n",
       " {'Count': '\"1492\"',\n",
       "  'ExcerptPostId': '\"3131\"',\n",
       "  'Id': '\"2\"',\n",
       "  'TagName': '\"innodb\"',\n",
       "  'WikiPostId': '\"3130\"'},\n",
       " {'Count': '\"374\"',\n",
       "  'ExcerptPostId': '\"3144\"',\n",
       "  'Id': '\"3\"',\n",
       "  'TagName': '\"myisam\"',\n",
       "  'WikiPostId': '\"3143\"'}]"
      ]
     },
     "execution_count": 6,
     "metadata": {},
     "output_type": "execute_result"
    }
   ],
   "source": [
    "b = [{'Count': '\"13032\"',\n",
    "  'ExcerptPostId': '\"2667\"',\n",
    "  'Id': '\"1\"',\n",
    "  'TagName': '\"mysql\"',\n",
    "  'WikiPostId': '\"2666\"'},\n",
    " {'Count': '\"1492\"',\n",
    "  'ExcerptPostId': '\"3131\"',\n",
    "  'Id': '\"2\"',\n",
    "  'TagName': '\"innodb\"',\n",
    "  'WikiPostId': '\"3130\"'},\n",
    " {'Count': '\"374\"',\n",
    "  'ExcerptPostId': '\"3144\"',\n",
    "  'Id': '\"3\"',\n",
    "  'TagName': '\"myisam\"',\n",
    "  'WikiPostId': '\"3143\"'}]\n",
    "\n",
    "for i in b:\n",
    "    dd={}\n",
    "    for k in tags_cols:\n",
    "        if k in d:\n",
    "            dd[k] = d[k]\n",
    "        else:\n",
    "            dd[k] = None"
   ]
  },
  {
   "cell_type": "code",
   "execution_count": 19,
   "metadata": {
    "collapsed": false
   },
   "outputs": [
    {
     "data": {
      "text/plain": [
       "['Id', '\"1\"']"
      ]
     },
     "execution_count": 19,
     "metadata": {},
     "output_type": "execute_result"
    }
   ],
   "source": [
    "lstr=['Id=\"1\"',\n",
    "  'TagName=\"mysql\"',\n",
    "  'Count=\"13032\"',\n",
    "  'ExcerptPostId=\"2667\"',\n",
    "  'WikiPostId=\"2666\"']\n",
    "lstr=lstr.map(lambda zip(k,v): k, v = l.split(\"=\")\n",
    "lstr"
   ]
  },
  {
   "cell_type": "code",
   "execution_count": 28,
   "metadata": {
    "collapsed": false
   },
   "outputs": [
    {
     "data": {
      "text/plain": [
       "{'Count': '\"13032\"',\n",
       " 'ExcerptPostId': '\"2667\"',\n",
       " 'Id': '\"1\"',\n",
       " 'TagName': '\"mysql\"',\n",
       " 'WikiPostId': '\"2666\"'}"
      ]
     },
     "execution_count": 28,
     "metadata": {},
     "output_type": "execute_result"
    }
   ],
   "source": [
    "lstr=['Id=\"1\"',\n",
    "  'TagName=\"mysql\"',\n",
    "  'Count=\"13032\"',\n",
    "  'ExcerptPostId=\"2667\"',\n",
    "  'WikiPostId=\"2666\"']\n",
    "lstr=dict(i.split(\"=\") for i in lstr)\n",
    "lstr"
   ]
  }
 ],
 "metadata": {
  "kernelspec": {
   "display_name": "Python [conda root]",
   "language": "python",
   "name": "conda-root-py"
  },
  "language_info": {
   "codemirror_mode": {
    "name": "ipython",
    "version": 3
   },
   "file_extension": ".py",
   "mimetype": "text/x-python",
   "name": "python",
   "nbconvert_exporter": "python",
   "pygments_lexer": "ipython3",
   "version": "3.5.2"
  }
 },
 "nbformat": 4,
 "nbformat_minor": 1
}
