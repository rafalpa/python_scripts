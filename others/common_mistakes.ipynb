{
 "cells": [
  {
   "cell_type": "code",
   "execution_count": null,
   "metadata": {
    "collapsed": true
   },
   "outputs": [],
   "source": [
    "# 'NoneType' object has no attribute 'columns':\n",
    "new_df=df.withColumn('TagName_new', func('TagName')).select('*').show(5)\n",
    "# new_df is of type None, because we assigned it an action [show()]"
   ]
  },
  {
   "cell_type": "code",
   "execution_count": null,
   "metadata": {
    "collapsed": true
   },
   "outputs": [],
   "source": [
    "proper module not imported"
   ]
  },
  {
   "cell_type": "code",
   "execution_count": null,
   "metadata": {
    "collapsed": true
   },
   "outputs": [],
   "source": [
    "# chronology of events in jupyter notebook"
   ]
  },
  {
   "cell_type": "code",
   "execution_count": null,
   "metadata": {
    "collapsed": true
   },
   "outputs": [],
   "source": [
    "# In 1.3.x, in order for the grouping column \"department\" to show up,\n",
    "# it must be included explicitly as part of the agg function call.\n",
    "df.groupBy(\"department\").agg(df[\"department\"], func.max(\"age\"), func.sum(\"expense\"))\n",
    "\n",
    "# In 1.4+, grouping column \"department\" is included automatically.\n",
    "df.groupBy(\"department\").agg(func.max(\"age\"), func.sum(\"expense\"))\n",
    "#W 2.X WALI BŁĘDAMI !!!"
   ]
  }
 ],
 "metadata": {
  "kernelspec": {
   "display_name": "Python [conda root]",
   "language": "python",
   "name": "conda-root-py"
  },
  "language_info": {
   "codemirror_mode": {
    "name": "ipython",
    "version": 3
   },
   "file_extension": ".py",
   "mimetype": "text/x-python",
   "name": "python",
   "nbconvert_exporter": "python",
   "pygments_lexer": "ipython3",
   "version": "3.5.2"
  }
 },
 "nbformat": 4,
 "nbformat_minor": 1
}
