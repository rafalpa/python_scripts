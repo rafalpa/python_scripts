{
 "cells": [
  {
   "cell_type": "markdown",
   "metadata": {},
   "source": [
    "\n",
    "\n",
    "## Podstawy Spark"
   ]
  },
  {
   "cell_type": "code",
   "execution_count": 2,
   "metadata": {
    "collapsed": true
   },
   "outputs": [],
   "source": [
    "from pyspark.ml.classification import NaiveBayes #lepsze niż mllib bo można na df zamiast rdd\n",
    "from pyspark.ml.evaluation import MulticlassClassificationEvaluator\n",
    "import bs4#beautiful soup\n",
    "import pyspark\n",
    "sc = pyspark.SparkContext(appName=\"DBstackex\")"
   ]
  },
  {
   "cell_type": "markdown",
   "metadata": {},
   "source": [
    "## Text processing\n",
    "\n",
    "Będziemy analizować [\"The Tragedy of Titus Andronicus\" by William Shakespeare](http://www.gutenberg.org/cache/epub/1106/pg1106.txt) z Project Gutenberg.\n",
    "\n",
    "Zbiór nie jest Big Data ale ilustruje koncepcję przetwarzania w Spark."
   ]
  },
  {
   "cell_type": "code",
   "execution_count": 3,
   "metadata": {
    "collapsed": false
   },
   "outputs": [],
   "source": [
    "lines = sc.textFile(\"data/Posts.xml\")"
   ]
  },
  {
   "cell_type": "code",
   "execution_count": 5,
   "metadata": {
    "collapsed": false
   },
   "outputs": [
    {
     "data": {
      "text/plain": [
       "127215"
      ]
     },
     "execution_count": 5,
     "metadata": {},
     "output_type": "execute_result"
    }
   ],
   "source": [
    "lines.count()"
   ]
  },
  {
   "cell_type": "code",
   "execution_count": 6,
   "metadata": {
    "collapsed": false
   },
   "outputs": [
    {
     "data": {
      "text/plain": [
       "['<?xml version=\"1.0\" encoding=\"utf-8\"?>',\n",
       " '<posts>',\n",
       " '  <row Id=\"1\" PostTypeId=\"1\" CreationDate=\"2011-01-03T20:46:02.927\" Score=\"134\" ViewCount=\"122688\" Body=\"&lt;p&gt;What are the main differences between InnoDB and MyISAM?&lt;/p&gt;&#xA;\" OwnerUserId=\"8\" LastActivityDate=\"2017-03-09T13:33:47.627\" Title=\"What are the main differences between InnoDB and MyISAM?\" Tags=\"&lt;mysql&gt;&lt;innodb&gt;&lt;myisam&gt;\" AnswerCount=\"10\" CommentCount=\"2\" FavoriteCount=\"90\" />',\n",
       " '  <row Id=\"2\" PostTypeId=\"1\" AcceptedAnswerId=\"4\" CreationDate=\"2011-01-03T20:46:32.393\" Score=\"61\" ViewCount=\"7436\" Body=\"&lt;p&gt;What version control methodologies help teams of people track database schema changes?&lt;/p&gt;&#xA;\" OwnerUserId=\"7\" LastEditorUserId=\"97\" LastEditDate=\"2011-01-06T11:25:12.520\" LastActivityDate=\"2013-09-23T07:14:01.600\" Title=\"How can a group track database schema changes?\" Tags=\"&lt;mysql&gt;&lt;version-control&gt;&lt;schema&gt;\" AnswerCount=\"5\" CommentCount=\"11\" FavoriteCount=\"33\" />',\n",
       " '  <row Id=\"3\" PostTypeId=\"1\" CreationDate=\"2011-01-03T20:48:58.913\" Score=\"25\" ViewCount=\"738\" Body=\"&lt;p&gt;I used to label columns in my databases like this:&lt;/p&gt;&#xA;&#xA;&lt;pre&gt;&lt;code&gt;user_id&#xA;user_name&#xA;user_password_hash&#xA;&lt;/code&gt;&lt;/pre&gt;&#xA;&#xA;&lt;p&gt;To avoid conflicts when joining two tables, but then I learnt some more on how to alias tables, and I stopped doing this. &lt;/p&gt;&#xA;&#xA;&lt;p&gt;What is an effective way of labeling columns in a database? Why?&lt;/p&gt;&#xA;\" OwnerUserId=\"17\" LastEditorUserId=\"97\" LastEditDate=\"2011-01-06T11:30:53.230\" LastActivityDate=\"2013-01-22T19:43:56.357\" Title=\"What is an effective way of labeling columns in a database?\" Tags=\"&lt;database-design&gt;&lt;erd&gt;\" AnswerCount=\"10\" CommentCount=\"4\" FavoriteCount=\"11\" />']"
      ]
     },
     "execution_count": 6,
     "metadata": {},
     "output_type": "execute_result"
    }
   ],
   "source": [
    "lines.take(5)"
   ]
  },
  {
   "cell_type": "code",
   "execution_count": 49,
   "metadata": {
    "collapsed": false
   },
   "outputs": [],
   "source": [
    "# zmieniamy linie w kolekcje słów\n",
    "words = lines.flatMap(lambda x: x.split())#returns list of words\n",
    "#words = lines.map(lambda x: x.split()) - returns list of lists"
   ]
  },
  {
   "cell_type": "code",
   "execution_count": 50,
   "metadata": {
    "collapsed": false
   },
   "outputs": [
    {
     "data": {
      "text/plain": [
       "['This',\n",
       " 'Etext',\n",
       " 'file',\n",
       " 'is',\n",
       " 'presented',\n",
       " 'by',\n",
       " 'Project',\n",
       " 'Gutenberg,',\n",
       " 'in',\n",
       " 'cooperation']"
      ]
     },
     "execution_count": 50,
     "metadata": {},
     "output_type": "execute_result"
    }
   ],
   "source": [
    "words.take(10)"
   ]
  },
  {
   "cell_type": "code",
   "execution_count": 51,
   "metadata": {
    "collapsed": false
   },
   "outputs": [
    {
     "data": {
      "text/plain": [
       "23531"
      ]
     },
     "execution_count": 51,
     "metadata": {},
     "output_type": "execute_result"
    }
   ],
   "source": [
    "# liczba słów\n",
    "words.count()"
   ]
  },
  {
   "cell_type": "code",
   "execution_count": 8,
   "metadata": {
    "collapsed": true
   },
   "outputs": [],
   "source": [
    "sqlContext = pyspark.sql.SQLContext(sc)"
   ]
  },
  {
   "cell_type": "code",
   "execution_count": 19,
   "metadata": {
    "collapsed": true
   },
   "outputs": [],
   "source": [
    "def parse_tags(line):\n",
    "    l=line.replace(\"<row \",\"\").replace(\" />\",\"\").strip().split()\n",
    "    d={}\n",
    "    for e in l:\n",
    "        k,v = e.split('=')\n",
    "        d[k] =v\n",
    "    return d"
   ]
  },
  {
   "cell_type": "code",
   "execution_count": null,
   "metadata": {
    "collapsed": true
   },
   "outputs": [],
   "source": [
    "def parse_tags_gen(line):\n",
    "    l=line.replace(\"<row \",\"\").replace(\" />\",\"\").strip().split()\n",
    "    d={}\n",
    "    for e in l:\n",
    "        k,v = e.split('=')\n",
    "        d[k] =v\n",
    "    return d"
   ]
  },
  {
   "cell_type": "code",
   "execution_count": 20,
   "metadata": {
    "collapsed": true
   },
   "outputs": [],
   "source": [
    "tags_rdd=sc.textFile('data/Tags.xml')\\\n",
    "    .filter(lambda l: l.strip().startswith(\"<row\"))\\\n",
    "    .map(parse_tags)"
   ]
  },
  {
   "cell_type": "code",
   "execution_count": 22,
   "metadata": {
    "collapsed": false
   },
   "outputs": [
    {
     "data": {
      "text/plain": [
       "[{'Count': '\"13032\"',\n",
       "  'ExcerptPostId': '\"2667\"',\n",
       "  'Id': '\"1\"',\n",
       "  'TagName': '\"mysql\"',\n",
       "  'WikiPostId': '\"2666\"'},\n",
       " {'Count': '\"1492\"',\n",
       "  'ExcerptPostId': '\"3131\"',\n",
       "  'Id': '\"2\"',\n",
       "  'TagName': '\"innodb\"',\n",
       "  'WikiPostId': '\"3130\"'},\n",
       " {'Count': '\"374\"',\n",
       "  'ExcerptPostId': '\"3144\"',\n",
       "  'Id': '\"3\"',\n",
       "  'TagName': '\"myisam\"',\n",
       "  'WikiPostId': '\"3143\"'},\n",
       " {'Count': '\"619\"',\n",
       "  'ExcerptPostId': '\"4367\"',\n",
       "  'Id': '\"4\"',\n",
       "  'TagName': '\"schema\"',\n",
       "  'WikiPostId': '\"4366\"'},\n",
       " {'Count': '\"242\"',\n",
       "  'ExcerptPostId': '\"13428\"',\n",
       "  'Id': '\"6\"',\n",
       "  'TagName': '\"nosql\"',\n",
       "  'WikiPostId': '\"13427\"'}]"
      ]
     },
     "execution_count": 22,
     "metadata": {},
     "output_type": "execute_result"
    }
   ],
   "source": [
    "tags_rdd.take(5)"
   ]
  },
  {
   "cell_type": "code",
   "execution_count": 18,
   "metadata": {
    "collapsed": false
   },
   "outputs": [
    {
     "ename": "NameError",
     "evalue": "name 'tags_rdd' is not defined",
     "output_type": "error",
     "traceback": [
      "\u001b[0;31m---------------------------------------------------------------------------\u001b[0m",
      "\u001b[0;31mNameError\u001b[0m                                 Traceback (most recent call last)",
      "\u001b[0;32m<ipython-input-18-d42cb2e98427>\u001b[0m in \u001b[0;36m<module>\u001b[0;34m()\u001b[0m\n\u001b[0;32m----> 1\u001b[0;31m \u001b[0mtags_rdd\u001b[0m\u001b[1;33m.\u001b[0m\u001b[0mmap\u001b[0m\u001b[1;33m(\u001b[0m\u001b[1;32mlambda\u001b[0m \u001b[0md\u001b[0m\u001b[1;33m:\u001b[0m \u001b[0md\u001b[0m\u001b[1;33m.\u001b[0m\u001b[0mkeys\u001b[0m\u001b[1;33m(\u001b[0m\u001b[1;33m)\u001b[0m\u001b[1;33m)\u001b[0m\u001b[1;33m.\u001b[0m\u001b[0mtake\u001b[0m\u001b[1;33m(\u001b[0m\u001b[1;36m10\u001b[0m\u001b[1;33m)\u001b[0m\u001b[1;33m\u001b[0m\u001b[0m\n\u001b[0m",
      "\u001b[0;31mNameError\u001b[0m: name 'tags_rdd' is not defined"
     ]
    }
   ],
   "source": [
    "tags_rdd.map(lambda d: d.keys()).take(10)"
   ]
  },
  {
   "cell_type": "code",
   "execution_count": null,
   "metadata": {
    "collapsed": true
   },
   "outputs": [],
   "source": [
    "tags_cols = tags_rdd.flatMap(lambda d: d.keys()).distinct().take(100)"
   ]
  },
  {
   "cell_type": "code",
   "execution_count": null,
   "metadata": {
    "collapsed": true
   },
   "outputs": [],
   "source": [
    "def tags_row(d):\n",
    "    dd={}\n",
    "    for k in tags_cols:\n",
    "        if k in d:\n",
    "            dd[k] = d[k]\n",
    "        else:\n",
    "            dd[k] = None\n",
    "    return pyspark.Row(**dd)"
   ]
  },
  {
   "cell_type": "code",
   "execution_count": null,
   "metadata": {
    "collapsed": true
   },
   "outputs": [],
   "source": [
    "tags=tags_rdd.map(tags_row).toDF()\n",
    "tags.show()"
   ]
  },
  {
   "cell_type": "code",
   "execution_count": 52,
   "metadata": {
    "collapsed": false
   },
   "outputs": [],
   "source": [
    "# Liczymy słowa tylko z pierwszą wielką literą\n",
    "capitalized = words \\\n",
    "  .filter(lambda x: x[0].isupper()) \\"
   ]
  },
  {
   "cell_type": "code",
   "execution_count": 53,
   "metadata": {
    "collapsed": false
   },
   "outputs": [
    {
     "data": {
      "text/plain": [
       "['This', 'Etext', 'Project', 'Gutenberg,', 'World']"
      ]
     },
     "execution_count": 53,
     "metadata": {},
     "output_type": "execute_result"
    }
   ],
   "source": [
    "capitalized.take(5)"
   ]
  },
  {
   "cell_type": "code",
   "execution_count": 54,
   "metadata": {
    "collapsed": false
   },
   "outputs": [
    {
     "data": {
      "text/plain": [
       "['Unto',\n",
       " 'Andronicus:',\n",
       " 'Andronicus.',\n",
       " 'Lavina',\n",
       " 'Public',\n",
       " 'LIBRARY,',\n",
       " 'Get',\n",
       " 'King,',\n",
       " 'News,',\n",
       " 'Complots']"
      ]
     },
     "execution_count": 54,
     "metadata": {},
     "output_type": "execute_result"
    }
   ],
   "source": [
    "capitalized.distinct().take(10)"
   ]
  },
  {
   "cell_type": "code",
   "execution_count": 55,
   "metadata": {
    "collapsed": false
   },
   "outputs": [
    {
     "data": {
      "text/plain": [
       "[('I', 390),\n",
       " ('And', 289),\n",
       " ('TITUS.', 118),\n",
       " ('The', 90),\n",
       " ('To', 85),\n",
       " ('That', 84),\n",
       " ('MARCUS.', 65),\n",
       " ('But', 61),\n",
       " ('AARON.', 58),\n",
       " ('For', 55)]"
      ]
     },
     "execution_count": 55,
     "metadata": {},
     "output_type": "execute_result"
    }
   ],
   "source": [
    "capitalized \\\n",
    "  .map(lambda x: (x, 1)) \\\n",
    "  .reduceByKey(add) \\\n",
    "  .top(10, lambda x: x[1])  # możemy wybrać wartość z pary klucz-wartość jako element sortujący"
   ]
  },
  {
   "cell_type": "markdown",
   "metadata": {},
   "source": [
    "### Zadania\n",
    "\n",
    "* Wypisz 5 linii zaczynających się od \"Titus\" lub \"Marcus\" (usuwając spacje jeżeli potrzeba).\n",
    "* Wypisz 20 najpopularniejszych słów z samymi WIELKIMI LITERAMI.\n",
    "* ★ Jaka jestczęstotliwość wyrazów w dziele?\n",
    "\n",
    "### (Python) hints"
   ]
  },
  {
   "cell_type": "code",
   "execution_count": 6,
   "metadata": {
    "collapsed": false
   },
   "outputs": [
    {
     "data": {
      "text/plain": [
       "'some string with whitespaces'"
      ]
     },
     "execution_count": 6,
     "metadata": {},
     "output_type": "execute_result"
    }
   ],
   "source": [
    "\"  some string with whitespaces \\t  \".strip()"
   ]
  },
  {
   "cell_type": "code",
   "execution_count": 7,
   "metadata": {
    "collapsed": false
   },
   "outputs": [
    {
     "data": {
      "text/plain": [
       "False"
      ]
     },
     "execution_count": 7,
     "metadata": {},
     "output_type": "execute_result"
    }
   ],
   "source": [
    "\"Jake likes his dog.\".startswith(\"Anne\")"
   ]
  },
  {
   "cell_type": "code",
   "execution_count": 8,
   "metadata": {
    "collapsed": false
   },
   "outputs": [
    {
     "data": {
      "text/plain": [
       "True"
      ]
     },
     "execution_count": 8,
     "metadata": {},
     "output_type": "execute_result"
    }
   ],
   "source": [
    "\"Jake likes his dog.\".startswith(\"Jake\")"
   ]
  },
  {
   "cell_type": "code",
   "execution_count": 7,
   "metadata": {
    "collapsed": false
   },
   "outputs": [
    {
     "data": {
      "text/plain": [
       "'Anne'"
      ]
     },
     "execution_count": 7,
     "metadata": {},
     "output_type": "execute_result"
    }
   ],
   "source": [
    "\"Anne\" or \"Jake\"  # Nie rób: string.startswith(a or b)"
   ]
  },
  {
   "cell_type": "code",
   "execution_count": 10,
   "metadata": {
    "collapsed": false
   },
   "outputs": [
    {
     "data": {
      "text/plain": [
       "'abc-'"
      ]
     },
     "execution_count": 10,
     "metadata": {},
     "output_type": "execute_result"
    }
   ],
   "source": [
    "\"abc,-\".replace(\",\", \"\")"
   ]
  },
  {
   "cell_type": "code",
   "execution_count": 11,
   "metadata": {
    "collapsed": false
   },
   "outputs": [
    {
     "data": {
      "text/plain": [
       "'abc'"
      ]
     },
     "execution_count": 11,
     "metadata": {},
     "output_type": "execute_result"
    }
   ],
   "source": [
    "\"abc,-\".replace(\",\", \"\").replace(\"-\", \"\")"
   ]
  },
  {
   "cell_type": "code",
   "execution_count": 12,
   "metadata": {
    "collapsed": false
   },
   "outputs": [
    {
     "data": {
      "text/plain": [
       "['Titus', 'Andronicus', 'Roman', 'legion']"
      ]
     },
     "execution_count": 12,
     "metadata": {},
     "output_type": "execute_result"
    }
   ],
   "source": [
    "# Wyrażenia regularne w pythonie\n",
    "import re\n",
    "re.findall(\"[\\w]+\", \"Titus Andronicus Roman-legion\")"
   ]
  },
  {
   "cell_type": "code",
   "execution_count": null,
   "metadata": {
    "collapsed": true
   },
   "outputs": [],
   "source": []
  }
 ],
 "metadata": {
  "anaconda-cloud": {},
  "kernelspec": {
   "display_name": "Python [default]",
   "language": "python",
   "name": "python3"
  },
  "language_info": {
   "codemirror_mode": {
    "name": "ipython",
    "version": 3
   },
   "file_extension": ".py",
   "mimetype": "text/x-python",
   "name": "python",
   "nbconvert_exporter": "python",
   "pygments_lexer": "ipython3",
   "version": "3.5.2"
  }
 },
 "nbformat": 4,
 "nbformat_minor": 0
}
