{
 "cells": [
  {
   "cell_type": "code",
   "execution_count": 20,
   "metadata": {
    "collapsed": false,
    "scrolled": false
   },
   "outputs": [
    {
     "name": "stdout",
     "output_type": "stream",
     "text": [
      "CREATE TABLE hr.admin_emp (\n",
      "         empno      NUMBER(5) PRIMARY KEY,\n",
      "         ename      VARCHAR2(15) NOT NULL,\n",
      "         ssn        NUMBER(9) ENCRYPT,\n",
      "         job        VARCHAR2(10),\n",
      "         mgr        NUMBER(5),\n",
      "         hiredate   DATE DEFAULT (sysdate),\n",
      "         photo      BLOB,\n",
      "         sal        NUMBER(7,2),\n",
      "         hrly_rate  NUMBER(7,2) GENERATED ALWAYS AS (sal/2080),\n",
      "         comm       NUMBER(7,2),\n",
      "         deptno     NUMBER(3) NOT NULL\n",
      "                     CONSTRAINT admin_dept_fkey REFERENCES hr.departments\n",
      "                     (department_id))\n",
      "   TABLESPACE admin_tbs\n",
      "   STORAGE ( INITIAL 50K);\n",
      "\n",
      "COMMENT ON TABLE hr.admin_emp IS 'Enhanced employee table';\n",
      "/\n"
     ]
    }
   ],
   "source": [
    "import re\n",
    "with open(\"object_1.txt\", \"r\") as file:\n",
    "    file_content = file.read()\n",
    "    print(file_content)"
   ]
  },
  {
   "cell_type": "code",
   "execution_count": 15,
   "metadata": {
    "collapsed": false
   },
   "outputs": [
    {
     "name": "stdout",
     "output_type": "stream",
     "text": [
      "We are the knights who say \"Ni!\"\n"
     ]
    }
   ],
   "source": [
    "print ('We are the {} who say \"{}!\"'.format('knights', 'Ni'))"
   ]
  },
  {
   "cell_type": "code",
   "execution_count": 18,
   "metadata": {
    "collapsed": false
   },
   "outputs": [
    {
     "data": {
      "text/plain": [
       "'CREATE TABLE hr.admin_emp (\\n'"
      ]
     },
     "execution_count": 18,
     "metadata": {},
     "output_type": "execute_result"
    }
   ],
   "source": [
    "file = open(\"object_1.txt\", \"r\")\n",
    "file.readline()"
   ]
  },
  {
   "cell_type": "code",
   "execution_count": 49,
   "metadata": {
    "collapsed": false
   },
   "outputs": [
    {
     "name": "stdout",
     "output_type": "stream",
     "text": [
      "Found on line 1: ()\n",
      "Found on line 15: ()\n",
      "Found on line 18: ()\n",
      "Found on line 18: ()\n"
     ]
    }
   ],
   "source": [
    "pattern = re.compile(\"TABLE\", re.IGNORECASE)\n",
    "\n",
    "for i, line in enumerate(open('object_1.txt')):\n",
    "    for match in re.finditer(pattern, line):\n",
    "        print ('Found on line %s: %s' % (i+1, match.groups()))"
   ]
  },
  {
   "cell_type": "code",
   "execution_count": 52,
   "metadata": {
    "collapsed": false
   },
   "outputs": [
    {
     "name": "stdout",
     "output_type": "stream",
     "text": [
      "<_sre.SRE_Match object; span=(7, 12), match='TABLE'>\n",
      "Match found:  TABLE\n"
     ]
    }
   ],
   "source": [
    "pattern_match = pattern.search(\"blabalal TABLE gfadfg\")\n",
    "print (pattern.search(\"adasdgfTABLEdafgdgtable skdf\"))\n",
    "if pattern_match:\n",
    "    print ('Match found: ', pattern_match.group())\n",
    "else:\n",
    "    print ('No match')\n",
    "# pattern = re.compile(\"TABLE\", re.IGNORECASE)\n",
    "\n",
    "# with open(\"object_1.txt\", \"r\") as file:\n",
    "#     for line in file:\n",
    "#         print match()"
   ]
  },
  {
   "cell_type": "code",
   "execution_count": null,
   "metadata": {
    "collapsed": true
   },
   "outputs": [],
   "source": []
  }
 ],
 "metadata": {
  "anaconda-cloud": {},
  "kernelspec": {
   "display_name": "Python [default]",
   "language": "python",
   "name": "python3"
  },
  "language_info": {
   "codemirror_mode": {
    "name": "ipython",
    "version": 3
   },
   "file_extension": ".py",
   "mimetype": "text/x-python",
   "name": "python",
   "nbconvert_exporter": "python",
   "pygments_lexer": "ipython3",
   "version": "3.5.2"
  }
 },
 "nbformat": 4,
 "nbformat_minor": 1
}
