{
 "cells": [
  {
   "cell_type": "markdown",
   "metadata": {},
   "source": [
    "# ETL process: transfering xml files to json/parquet format"
   ]
  },
  {
   "cell_type": "code",
   "execution_count": 1,
   "metadata": {
    "collapsed": false
   },
   "outputs": [],
   "source": [
    "import pyspark\n",
    "from pyspark.sql import Row\n",
    "from collections import OrderedDict\n",
    "from pyspark.sql import SparkSession\n",
    "# from pyspark.sql.types import StructType,StringType,IntegerType,StructField\n",
    "sc = pyspark.SparkContext(appName=\"DBstackex\")\n",
    "from pyspark.sql import SQLContext\n",
    "# from pyspark.sql.types import *\n",
    "sqlContext = SQLContext(sc)\n",
    "# import pandas\n",
    "import xml.etree.ElementTree as ET\n",
    "from lxml import etree"
   ]
  },
  {
   "cell_type": "code",
   "execution_count": 2,
   "metadata": {
    "collapsed": true
   },
   "outputs": [],
   "source": [
    "def convert_to_row(d: dict) -> Row:\n",
    "    dd={}\n",
    "    for k in col_list:\n",
    "        if k in d:\n",
    "            dd[k] = d[k]\n",
    "        else:\n",
    "            dd[k] = None\n",
    "    return Row(**OrderedDict(sorted(dd.items())))"
   ]
  },
  {
   "cell_type": "code",
   "execution_count": 3,
   "metadata": {
    "collapsed": false,
    "scrolled": false
   },
   "outputs": [],
   "source": [
    "xml_file=sc.textFile('data/input/Posts.xml')\n",
    "tags=xml_file.filter(lambda l: l.strip().startswith(\"<row\"))\n",
    "elements = tags.map(lambda l: ET.fromstring(l))\n",
    "keys_values = elements.map(lambda l: l.attrib)\n",
    "# keys_values.take(3)"
   ]
  },
  {
   "cell_type": "code",
   "execution_count": 4,
   "metadata": {
    "collapsed": false
   },
   "outputs": [],
   "source": [
    "col_list = list(keys_values.flatMap(lambda d: d.keys()).distinct().toLocalIterator())"
   ]
  },
  {
   "cell_type": "code",
   "execution_count": 5,
   "metadata": {
    "collapsed": true
   },
   "outputs": [
    {
     "data": {
      "text/plain": [
       "['OwnerUserId',\n",
       " 'ClosedDate',\n",
       " 'LastEditDate',\n",
       " 'CommunityOwnedDate',\n",
       " 'CommentCount',\n",
       " 'Body',\n",
       " 'ParentId',\n",
       " 'Id',\n",
       " 'AcceptedAnswerId',\n",
       " 'Tags',\n",
       " 'AnswerCount',\n",
       " 'LastEditorDisplayName',\n",
       " 'ViewCount',\n",
       " 'PostTypeId',\n",
       " 'CreationDate',\n",
       " 'LastActivityDate',\n",
       " 'OwnerDisplayName',\n",
       " 'Score',\n",
       " 'LastEditorUserId',\n",
       " 'FavoriteCount',\n",
       " 'Title']"
      ]
     },
     "execution_count": 5,
     "metadata": {},
     "output_type": "execute_result"
    }
   ],
   "source": [
    "col_list"
   ]
  },
  {
   "cell_type": "code",
   "execution_count": 6,
   "metadata": {
    "collapsed": false
   },
   "outputs": [],
   "source": [
    "df = keys_values.map(convert_to_row)\n",
    "# df = df.toDF(samplingRatio = 0.1)\n",
    "df=sqlContext.createDataFrame(df, samplingRatio = 0.1)"
   ]
  },
  {
   "cell_type": "code",
   "execution_count": 8,
   "metadata": {
    "collapsed": false
   },
   "outputs": [],
   "source": [
    "df.coalesce(1).toJSON().saveAsTextFile(\"./data/results/Posts\")"
   ]
  },
  {
   "cell_type": "code",
   "execution_count": null,
   "metadata": {
    "collapsed": false
   },
   "outputs": [],
   "source": [
    "df.coalesce(1).write.csv('data/results/PostHistory.csv')"
   ]
  },
  {
   "cell_type": "code",
   "execution_count": 7,
   "metadata": {
    "collapsed": false
   },
   "outputs": [],
   "source": [
    "df.coalesce(1).write.parquet(\"data/results/Posts_parquet\")"
   ]
  }
 ],
 "metadata": {
  "anaconda-cloud": {},
  "kernelspec": {
   "display_name": "Python [conda root]",
   "language": "python",
   "name": "conda-root-py"
  },
  "language_info": {
   "codemirror_mode": {
    "name": "ipython",
    "version": 3
   },
   "file_extension": ".py",
   "mimetype": "text/x-python",
   "name": "python",
   "nbconvert_exporter": "python",
   "pygments_lexer": "ipython3",
   "version": "3.5.2"
  }
 },
 "nbformat": 4,
 "nbformat_minor": 1
}
