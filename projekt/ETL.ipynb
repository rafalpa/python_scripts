{
 "cells": [
  {
   "cell_type": "code",
   "execution_count": null,
   "metadata": {
    "collapsed": true
   },
   "outputs": [],
   "source": [
    "# import findspark\n",
    "# findspark.init()"
   ]
  },
  {
   "cell_type": "code",
   "execution_count": 1,
   "metadata": {
    "collapsed": false,
    "scrolled": false
   },
   "outputs": [],
   "source": [
    "import pyspark\n",
    "from pyspark.sql import Row\n",
    "from collections import OrderedDict\n",
    "from pyspark.sql import SparkSession\n",
    "sc = pyspark.SparkContext(appName=\"DBstackex\")\n",
    "from pyspark.sql import SQLContext\n",
    "sqlContext = SQLContext(sc)"
   ]
  },
  {
   "cell_type": "code",
   "execution_count": 3,
   "metadata": {
    "collapsed": false
   },
   "outputs": [],
   "source": [
    "def convert_to_row(d: dict) -> Row:\n",
    "    return Row(**OrderedDict(sorted(d.items())))"
   ]
  },
  {
   "cell_type": "code",
   "execution_count": 5,
   "metadata": {
    "collapsed": true
   },
   "outputs": [],
   "source": [
    "xml_file=sc.textFile('data/Tags.xml')\n",
    "tags=xml_file.filter(lambda l: l.strip().startswith(\"<row\"))\n",
    "tags.map?"
   ]
  },
  {
   "cell_type": "code",
   "execution_count": 3,
   "metadata": {
    "collapsed": false
   },
   "outputs": [
    {
     "data": {
      "text/plain": [
       "[{'Count': '\"13032\"',\n",
       "  'ExcerptPostId': '\"2667\"',\n",
       "  'Id': '\"1\"',\n",
       "  'TagName': '\"mysql\"',\n",
       "  'WikiPostId': '\"2666\"'},\n",
       " {'Count': '\"1492\"',\n",
       "  'ExcerptPostId': '\"3131\"',\n",
       "  'Id': '\"2\"',\n",
       "  'TagName': '\"innodb\"',\n",
       "  'WikiPostId': '\"3130\"'}]"
      ]
     },
     "execution_count": 3,
     "metadata": {},
     "output_type": "execute_result"
    }
   ],
   "source": [
    "clean_tags = tags\\\n",
    "    .map(lambda l: l.replace(\"<row \",\"\").replace(\" />\",\"\").strip().split())\n",
    "key_value = clean_tags.map(lambda l: dict(i.split(\"=\") for i in l))\n",
    "key_value.take(2)"
   ]
  },
  {
   "cell_type": "code",
   "execution_count": 18,
   "metadata": {
    "collapsed": false
   },
   "outputs": [
    {
     "data": {
      "text/plain": [
       "DataFrame[Count: string, ExcerptPostId: string, Id: string, TagName: string, WikiPostId: string]"
      ]
     },
     "execution_count": 18,
     "metadata": {},
     "output_type": "execute_result"
    }
   ],
   "source": [
    "df = key_value.map(convert_to_row).toDF('Count', 'ExcerptPostId', 'Id', 'TagName', 'WikiPostId')\n",
    "df\n",
    "# df = sqlContext.createDataFrame(df).collect()\n",
    "# new_rdd.toDF()"
   ]
  },
  {
   "cell_type": "code",
   "execution_count": 16,
   "metadata": {
    "collapsed": false
   },
   "outputs": [
    {
     "data": {
      "text/plain": [
       "DataFrame[Count: string, ExcerptPostId: string, Id: string, TagName: string, WikiPostId: string]"
      ]
     },
     "execution_count": 16,
     "metadata": {},
     "output_type": "execute_result"
    }
   ],
   "source": [
    "df"
   ]
  },
  {
   "cell_type": "code",
   "execution_count": null,
   "metadata": {
    "collapsed": false
   },
   "outputs": [],
   "source": [
    "sc.stop()"
   ]
  }
 ],
 "metadata": {
  "anaconda-cloud": {},
  "kernelspec": {
   "display_name": "Python [conda root]",
   "language": "python",
   "name": "conda-root-py"
  },
  "language_info": {
   "codemirror_mode": {
    "name": "ipython",
    "version": 3
   },
   "file_extension": ".py",
   "mimetype": "text/x-python",
   "name": "python",
   "nbconvert_exporter": "python",
   "pygments_lexer": "ipython3",
   "version": "3.5.2"
  }
 },
 "nbformat": 4,
 "nbformat_minor": 1
}
