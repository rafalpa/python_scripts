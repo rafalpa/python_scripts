{
 "cells": [
  {
   "cell_type": "code",
   "execution_count": 1,
   "metadata": {
    "collapsed": true
   },
   "outputs": [],
   "source": [
    "import pyspark\n",
    "from pyspark.sql import SQLContext\n",
    "from pyspark.sql.types import *\n",
    "import pyspark.sql.functions as func\n",
    "from pyspark.sql.functions import col\n",
    "from pyspark.sql.functions import sum\n",
    "from pyspark.sql.functions import when\n",
    "from pyspark.sql.functions import explode\n",
    "from pyspark.sql.functions import unix_timestamp\n",
    "import datetime"
   ]
  },
  {
   "cell_type": "code",
   "execution_count": 2,
   "metadata": {
    "collapsed": false
   },
   "outputs": [],
   "source": [
    "sc = pyspark.SparkContext(appName=\"Tags\")\n",
    "sqlContext = SQLContext(sc)"
   ]
  },
  {
   "cell_type": "code",
   "execution_count": 44,
   "metadata": {
    "collapsed": true
   },
   "outputs": [],
   "source": [
    "df = sqlContext.read.parquet(\"./data/results/Posts_parquet/Posts.parquet\")"
   ]
  },
  {
   "cell_type": "code",
   "execution_count": 45,
   "metadata": {
    "collapsed": false
   },
   "outputs": [
    {
     "data": {
      "text/html": [
       "<div>\n",
       "<table border=\"1\" class=\"dataframe\">\n",
       "  <thead>\n",
       "    <tr style=\"text-align: right;\">\n",
       "      <th></th>\n",
       "      <th>Id</th>\n",
       "      <th>Tags</th>\n",
       "      <th>CreationDate</th>\n",
       "      <th>LastEditDate</th>\n",
       "    </tr>\n",
       "  </thead>\n",
       "  <tbody>\n",
       "    <tr>\n",
       "      <th>0</th>\n",
       "      <td>1</td>\n",
       "      <td>&lt;mysql&gt;&lt;innodb&gt;&lt;myisam&gt;</td>\n",
       "      <td>2011-01-03</td>\n",
       "      <td>None</td>\n",
       "    </tr>\n",
       "    <tr>\n",
       "      <th>1</th>\n",
       "      <td>2</td>\n",
       "      <td>&lt;mysql&gt;&lt;version-control&gt;&lt;schema&gt;</td>\n",
       "      <td>2011-01-03</td>\n",
       "      <td>2011-01-06</td>\n",
       "    </tr>\n",
       "    <tr>\n",
       "      <th>2</th>\n",
       "      <td>3</td>\n",
       "      <td>&lt;database-design&gt;&lt;erd&gt;</td>\n",
       "      <td>2011-01-03</td>\n",
       "      <td>2011-01-06</td>\n",
       "    </tr>\n",
       "    <tr>\n",
       "      <th>3</th>\n",
       "      <td>4</td>\n",
       "      <td>None</td>\n",
       "      <td>2011-01-03</td>\n",
       "      <td>2013-09-23</td>\n",
       "    </tr>\n",
       "    <tr>\n",
       "      <th>4</th>\n",
       "      <td>5</td>\n",
       "      <td>&lt;nosql&gt;&lt;rdbms&gt;&lt;database-recommendation&gt;</td>\n",
       "      <td>2011-01-03</td>\n",
       "      <td>2011-01-06</td>\n",
       "    </tr>\n",
       "  </tbody>\n",
       "</table>\n",
       "</div>"
      ],
      "text/plain": [
       "   Id                                     Tags CreationDate LastEditDate\n",
       "0   1                  <mysql><innodb><myisam>   2011-01-03         None\n",
       "1   2         <mysql><version-control><schema>   2011-01-03   2011-01-06\n",
       "2   3                   <database-design><erd>   2011-01-03   2011-01-06\n",
       "3   4                                     None   2011-01-03   2013-09-23\n",
       "4   5  <nosql><rdbms><database-recommendation>   2011-01-03   2011-01-06"
      ]
     },
     "execution_count": 45,
     "metadata": {},
     "output_type": "execute_result"
    }
   ],
   "source": [
    "tags_df=df \\\n",
    ".select(df[\"Id\"].cast('int'), \n",
    "        df[\"Tags\"], \n",
    "        df[\"CreationDate\"].cast('date'), \n",
    "        df['LastEditDate'].cast('date'))\n",
    "tags_df.limit(5).toPandas()"
   ]
  },
  {
   "cell_type": "code",
   "execution_count": 50,
   "metadata": {
    "collapsed": false
   },
   "outputs": [],
   "source": [
    "tag_dict = {\n",
    "    \"mysql.*\": \"mysql\"\n",
    "    ,\"innodb\": \"mysql\"\n",
    "    ,\"myisam\": \"mysql\"\n",
    "    ,\"sql-server.*\": \"sql-server\"\n",
    "    ,\"ssms\": \"sql-server\"\n",
    "    ,\"ssis\": \"sql-server\"\n",
    "    ,\"t-sql\": \"sql-server\"\n",
    "    ,\"postgresql.*\": \"postgres\"\n",
    "    ,\"oracle.*\": \"oracle\"\n",
    "    ,\"document-oriented\":\"mongodb\"\n",
    "    ,\"phpmyadmin\": \"postgres\"\n",
    "    ,\"plsql\": \"oracle\"\n",
    "    ,\"plpgsql\": \"postgres\"\n",
    "    ,\"sqlplus\": \"oracle\"\n",
    "    ,\"rman\": \"oracle\"\n",
    "    ,\"pgadmin\": \"postgres\"\n",
    "    ,\"windows-server.*\":\"sql-server\"\n",
    "    ,\"pg-dump\": \"postgres\"\n",
    "    ,\"psql\": \"postgres\"\n",
    "    ,\"postgis\": \"postgres\"\n",
    "    ,\"nosql\": \"mongodb\"\n",
    "    ,\"mongo.*\": \"mongodb\"\n",
    "        }"
   ]
  },
  {
   "cell_type": "code",
   "execution_count": 51,
   "metadata": {
    "collapsed": false
   },
   "outputs": [],
   "source": [
    "def standardize_tags(tag_list):\n",
    "#     tags_std=[tag.replace('innodb', 'mysql') for tag in tag_list]\n",
    "    import re\n",
    "    tags_std = tag_list\n",
    "    for key, value in tag_dict.items():\n",
    "        regex = re.compile(key, re.IGNORECASE)\n",
    "        tags_std=[regex.sub(value, tag) for tag in tags_std]\n",
    "#     for i in tag_dict:\n",
    "#         regex = re.compile(i, re.IGNORECASE)\n",
    "#         tags_std=[regex.sub(i% tag_dict[i], tag) for tag in tag_list]\n",
    "    return tags_std"
   ]
  },
  {
   "cell_type": "code",
   "execution_count": 46,
   "metadata": {
    "collapsed": false
   },
   "outputs": [
    {
     "data": {
      "text/plain": [
       "127212"
      ]
     },
     "execution_count": 46,
     "metadata": {},
     "output_type": "execute_result"
    }
   ],
   "source": [
    "tags_rdd=tags_df.rdd\n",
    "tags_rdd.count()"
   ]
  },
  {
   "cell_type": "code",
   "execution_count": 48,
   "metadata": {
    "collapsed": false
   },
   "outputs": [
    {
     "data": {
      "text/plain": [
       "53664"
      ]
     },
     "execution_count": 48,
     "metadata": {},
     "output_type": "execute_result"
    }
   ],
   "source": [
    "tags_not_empty=tags_rdd.filter(lambda x: x[1]!=None)\n",
    "tags_not_empty.count()"
   ]
  },
  {
   "cell_type": "code",
   "execution_count": 55,
   "metadata": {
    "collapsed": false
   },
   "outputs": [
    {
     "data": {
      "text/plain": [
       "[(1, {'mysql'}, datetime.date(2011, 1, 3), None),\n",
       " (2,\n",
       "  {'mysql', 'schema', 'version-control'},\n",
       "  datetime.date(2011, 1, 3),\n",
       "  datetime.date(2011, 1, 6)),\n",
       " (3,\n",
       "  {'database-design', 'erd'},\n",
       "  datetime.date(2011, 1, 3),\n",
       "  datetime.date(2011, 1, 6)),\n",
       " (5,\n",
       "  {'database-recommendation', 'mongodb', 'rdbms'},\n",
       "  datetime.date(2011, 1, 3),\n",
       "  datetime.date(2011, 1, 6)),\n",
       " (6,\n",
       "  {'postgres', 'replication'},\n",
       "  datetime.date(2011, 1, 3),\n",
       "  datetime.date(2011, 8, 16))]"
      ]
     },
     "execution_count": 55,
     "metadata": {},
     "output_type": "execute_result"
    }
   ],
   "source": [
    "tags_clean=tags_not_empty \\\n",
    ".map(lambda x: (x[0], x[1].replace('><',', '), x[2], x[3])) \\\n",
    ".map(lambda x: (x[0], x[1].replace('<', ''), x[2], x[3])) \\\n",
    ".map(lambda x: (x[0], x[1].replace('>', ''), x[2], x[3]))\n",
    "\n",
    "tags_split=tags_clean \\\n",
    ".map(lambda x: (x[0], x[1].split(','), x[2], x[3])) \\\n",
    ".map(lambda x: (x[0], [e.strip() for e in x[1]], x[2], x[3]))\n",
    "\n",
    "tags_standardized=tags_split \\\n",
    ".map(lambda x: (x[0], standardize_tags(x[1]), x[2], x[3]))\n",
    "\n",
    "tags_unique = tags_standardized \\\n",
    ".map(lambda x: (x[0],set(x[1]), x[2], x[3]))\n",
    "\n",
    "tags_unique.take(5)"
   ]
  },
  {
   "cell_type": "code",
   "execution_count": 58,
   "metadata": {
    "collapsed": false
   },
   "outputs": [
    {
     "data": {
      "text/plain": [
       "{'mongodb', 'mysql', 'oracle', 'postgres', 'sql-server'}"
      ]
     },
     "execution_count": 58,
     "metadata": {},
     "output_type": "execute_result"
    }
   ],
   "source": [
    "unique_tags=set(tag_dict.values())\n",
    "unique_tags"
   ]
  },
  {
   "cell_type": "code",
   "execution_count": null,
   "metadata": {
    "collapsed": false,
    "scrolled": false
   },
   "outputs": [],
   "source": [
    "post_tags_meaningful = tags_unique \\\n",
    ".map(lambda x: (x[0],x[1].intersection(unique_tags), x[2], x[3])) \\\n",
    ".filter(lambda x: bool(x[1]))\n",
    "post_tags_meaningful.take(20)"
   ]
  },
  {
   "cell_type": "code",
   "execution_count": null,
   "metadata": {
    "collapsed": false
   },
   "outputs": [],
   "source": [
    "post_tags_meaningful.filter(lambda x: x[3] == None).count()"
   ]
  },
  {
   "cell_type": "code",
   "execution_count": null,
   "metadata": {
    "collapsed": false,
    "scrolled": false
   },
   "outputs": [],
   "source": [
    "common_tags = post_tags_meaningful.filter(lambda x: len(x[1])>1)\n",
    "common_tags.take(20)"
   ]
  },
  {
   "cell_type": "code",
   "execution_count": null,
   "metadata": {
    "collapsed": false,
    "scrolled": true
   },
   "outputs": [],
   "source": [
    "post_tags_to_write=post_tags_meaningful \\\n",
    ".map(lambda x: (x[0],list(x[1]), x[2], x[3]))\n",
    "\n",
    "fields = [\n",
    "    StructField('Id', IntegerType(), True),\n",
    "    StructField('Tags', ArrayType(StringType(), True), True),\n",
    "    StructField('CreationDate', DateType(), True),\n",
    "    StructField('LastEditDate', DateType(), True)]\n",
    "schema = StructType(fields)\n",
    "df=sqlContext.createDataFrame(post_tags_to_write, schema, samplingRatio = 0.1)\n",
    "df_filled = df \\\n",
    ".withColumn('LastEditDate', when(\n",
    "        col('LastEditDate').isNull(), datetime.date.today()).otherwise(col('LastEditDate')))\n",
    "df_filled.show()"
   ]
  },
  {
   "cell_type": "code",
   "execution_count": null,
   "metadata": {
    "collapsed": false
   },
   "outputs": [],
   "source": [
    "df_filled.coalesce(1).write.parquet(\"data/results/Posts_clean_parquet\")"
   ]
  },
  {
   "cell_type": "code",
   "execution_count": 1,
   "metadata": {
    "collapsed": true
   },
   "outputs": [
    {
     "ename": "NameError",
     "evalue": "name 'sqlContext' is not defined",
     "output_type": "error",
     "traceback": [
      "\u001b[0;31m---------------------------------------------------------------------------\u001b[0m",
      "\u001b[0;31mNameError\u001b[0m                                 Traceback (most recent call last)",
      "\u001b[0;32m<ipython-input-1-af599a6144c4>\u001b[0m in \u001b[0;36m<module>\u001b[0;34m()\u001b[0m\n\u001b[0;32m----> 1\u001b[0;31m \u001b[0mposts\u001b[0m \u001b[1;33m=\u001b[0m \u001b[0msqlContext\u001b[0m\u001b[1;33m.\u001b[0m\u001b[0mread\u001b[0m\u001b[1;33m.\u001b[0m\u001b[0mparquet\u001b[0m\u001b[1;33m(\u001b[0m\u001b[1;34m\"./data/results/Posts_clean_parquet/Posts.parquet\"\u001b[0m\u001b[1;33m)\u001b[0m\u001b[1;33m\u001b[0m\u001b[0m\n\u001b[0m\u001b[1;32m      2\u001b[0m \u001b[1;31m# tags_df=df \\\u001b[0m\u001b[1;33m\u001b[0m\u001b[1;33m\u001b[0m\u001b[0m\n\u001b[1;32m      3\u001b[0m \u001b[1;31m# .select(df[\"Id\"].cast('int'),\u001b[0m\u001b[1;33m\u001b[0m\u001b[1;33m\u001b[0m\u001b[0m\n\u001b[1;32m      4\u001b[0m \u001b[1;31m#         df[\"Tags\"],\u001b[0m\u001b[1;33m\u001b[0m\u001b[1;33m\u001b[0m\u001b[0m\n\u001b[1;32m      5\u001b[0m \u001b[1;31m#         df[\"CreationDate\"].cast('date'),\u001b[0m\u001b[1;33m\u001b[0m\u001b[1;33m\u001b[0m\u001b[0m\n",
      "\u001b[0;31mNameError\u001b[0m: name 'sqlContext' is not defined"
     ]
    }
   ],
   "source": [
    "posts = sqlContext.read.parquet(\"./data/results/Posts_clean_parquet/Posts.parquet\")\n",
    "# tags_df=df \\\n",
    "# .select(df[\"Id\"].cast('int'), \n",
    "#         df[\"Tags\"], \n",
    "#         df[\"CreationDate\"].cast('date'), \n",
    "#         df['LastEditDate'].cast('date'))\n",
    "posts.limit(5).toPandas()"
   ]
  },
  {
   "cell_type": "code",
   "execution_count": 2,
   "metadata": {
    "collapsed": false,
    "scrolled": true
   },
   "outputs": [
    {
     "ename": "NameError",
     "evalue": "name 'posts' is not defined",
     "output_type": "error",
     "traceback": [
      "\u001b[0;31m---------------------------------------------------------------------------\u001b[0m",
      "\u001b[0;31mNameError\u001b[0m                                 Traceback (most recent call last)",
      "\u001b[0;32m<ipython-input-2-2f63f7f33ba3>\u001b[0m in \u001b[0;36m<module>\u001b[0;34m()\u001b[0m\n\u001b[0;32m----> 1\u001b[0;31m \u001b[0mposts\u001b[0m\u001b[1;33m.\u001b[0m\u001b[0mfilter\u001b[0m\u001b[1;33m(\u001b[0m\u001b[1;34m'Id=96'\u001b[0m\u001b[1;33m)\u001b[0m\u001b[1;33m.\u001b[0m\u001b[0mlimit\u001b[0m\u001b[1;33m(\u001b[0m\u001b[1;36m1\u001b[0m\u001b[1;33m)\u001b[0m\u001b[1;33m.\u001b[0m\u001b[0mtoPandas\u001b[0m\u001b[1;33m(\u001b[0m\u001b[1;33m)\u001b[0m\u001b[1;33m\u001b[0m\u001b[0m\n\u001b[0m\u001b[1;32m      2\u001b[0m \u001b[1;33m\u001b[0m\u001b[0m\n\u001b[1;32m      3\u001b[0m \u001b[0mposts\u001b[0m\u001b[1;33m=\u001b[0m\u001b[0mposts\u001b[0m\u001b[1;33m.\u001b[0m\u001b[0mselect\u001b[0m\u001b[1;33m(\u001b[0m\u001b[1;34m'Id'\u001b[0m\u001b[1;33m,\u001b[0m \u001b[0mexplode\u001b[0m\u001b[1;33m(\u001b[0m\u001b[0mcol\u001b[0m\u001b[1;33m(\u001b[0m\u001b[1;34m'Tags'\u001b[0m\u001b[1;33m)\u001b[0m\u001b[1;33m)\u001b[0m\u001b[1;33m.\u001b[0m\u001b[0malias\u001b[0m\u001b[1;33m(\u001b[0m\u001b[1;34m'Tag'\u001b[0m\u001b[1;33m)\u001b[0m\u001b[1;33m,\u001b[0m \u001b[1;34m'CreationDate'\u001b[0m\u001b[1;33m,\u001b[0m \u001b[1;34m'LastEditDate'\u001b[0m\u001b[1;33m)\u001b[0m\u001b[1;33m\u001b[0m\u001b[0m\n\u001b[1;32m      4\u001b[0m \u001b[1;33m\u001b[0m\u001b[0m\n\u001b[1;32m      5\u001b[0m \u001b[0mposts\u001b[0m\u001b[1;33m.\u001b[0m\u001b[0mfilter\u001b[0m\u001b[1;33m(\u001b[0m\u001b[1;34m'Id > 93 AND Id < 98'\u001b[0m\u001b[1;33m)\u001b[0m\u001b[1;33m.\u001b[0m\u001b[0mshow\u001b[0m\u001b[1;33m(\u001b[0m\u001b[1;36m8\u001b[0m\u001b[1;33m)\u001b[0m\u001b[1;33m\u001b[0m\u001b[0m\n",
      "\u001b[0;31mNameError\u001b[0m: name 'posts' is not defined"
     ]
    }
   ],
   "source": [
    "posts.filter('Id=96').limit(1).toPandas()\n",
    "\n",
    "posts=posts.select('Id', explode(col('Tags')).alias('Tag'), 'CreationDate', 'LastEditDate')\n",
    "\n",
    "posts.filter('Id > 93 AND Id < 98').show(8)\n",
    "\n",
    "posts_for_df=posts.filter('Tag = \"sql-server\"').sort(col('CreationDate'))\n",
    "\n",
    "df=posts_for_df.toPandas()\n",
    "df.dtypes\n",
    "\n",
    "import pandas as pd\n",
    "from matplotlib import pyplot\n",
    "%matplotlib inline\n",
    "\n",
    "df\n",
    "\n",
    "df['CreationDate']=pd.to_datetime(df['CreationDate'], format= '%Y-%m-%d')\n",
    "df.dtypes\n",
    "\n",
    "df.plot('CreationDate', 'Id')\n",
    "\n",
    "df.hist?\n",
    "\n",
    "# df.groupby([df[\"CreationDate\"].dt.year, df[\"CreationDate\"].dt.month]).count().plot(kind=\"bar\")\n",
    "df \\\n",
    ".groupby(df[\"CreationDate\"].dt.year).count().plot(kind=\"bar\")\n",
    "# .select(\"Id\", \"CreationDate\") \\\n",
    "# .groupby(df[\"CreationDate\"].dt.year).count().plot(kind=\"bar\")\n",
    "\n",
    "pyplot.hist([1,11,21,31,41], bins=[0,10,20,30,40,50], weights=[10,1,40,33,6]);"
   ]
  },
  {
   "cell_type": "code",
   "execution_count": null,
   "metadata": {
    "collapsed": true
   },
   "outputs": [],
   "source": []
  }
 ],
 "metadata": {
  "anaconda-cloud": {},
  "kernelspec": {
   "display_name": "Python [conda root]",
   "language": "python",
   "name": "conda-root-py"
  },
  "language_info": {
   "codemirror_mode": {
    "name": "ipython",
    "version": 3
   },
   "file_extension": ".py",
   "mimetype": "text/x-python",
   "name": "python",
   "nbconvert_exporter": "python",
   "pygments_lexer": "ipython3",
   "version": "3.5.2"
  }
 },
 "nbformat": 4,
 "nbformat_minor": 1
}
