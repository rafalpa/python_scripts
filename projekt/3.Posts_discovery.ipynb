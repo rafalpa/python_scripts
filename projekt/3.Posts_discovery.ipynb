{
 "cells": [
  {
   "cell_type": "code",
   "execution_count": 67,
   "metadata": {
    "collapsed": true
   },
   "outputs": [],
   "source": [
    "import pyspark\n",
    "from pyspark.sql import SQLContext\n",
    "from pyspark.sql.types import *\n",
    "import pyspark.sql.functions as func\n",
    "from pyspark.sql.functions import col\n",
    "from pyspark.sql.functions import sum\n",
    "from pyspark.sql.functions import when\n",
    "import datetime"
   ]
  },
  {
   "cell_type": "code",
   "execution_count": 2,
   "metadata": {
    "collapsed": true
   },
   "outputs": [],
   "source": [
    "sc = pyspark.SparkContext(appName=\"Tags\")\n",
    "sqlContext = SQLContext(sc)"
   ]
  },
  {
   "cell_type": "code",
   "execution_count": 13,
   "metadata": {
    "collapsed": true
   },
   "outputs": [],
   "source": [
    "df = sqlContext.read.parquet(\"./data/results/Posts_parquet/Posts.parquet\")"
   ]
  },
  {
   "cell_type": "code",
   "execution_count": 14,
   "metadata": {
    "collapsed": false
   },
   "outputs": [
    {
     "name": "stdout",
     "output_type": "stream",
     "text": [
      "+---+--------------------+------------+------------+\n",
      "| Id|                Tags|CreationDate|LastEditDate|\n",
      "+---+--------------------+------------+------------+\n",
      "|  1|<mysql><innodb><m...|  2011-01-03|        null|\n",
      "|  2|<mysql><version-c...|  2011-01-03|  2011-01-06|\n",
      "|  3|<database-design>...|  2011-01-03|  2011-01-06|\n",
      "|  4|                null|  2011-01-03|  2013-09-23|\n",
      "|  5|<nosql><rdbms><da...|  2011-01-03|  2011-01-06|\n",
      "+---+--------------------+------------+------------+\n",
      "only showing top 5 rows\n",
      "\n"
     ]
    }
   ],
   "source": [
    "tags_df=df \\\n",
    ".select(df[\"Id\"].cast('int'), \n",
    "        df[\"Tags\"], \n",
    "        df[\"CreationDate\"].cast('date'), \n",
    "        df['LastEditDate'].cast('date'))\n",
    "tags_df.show(5)"
   ]
  },
  {
   "cell_type": "code",
   "execution_count": 15,
   "metadata": {
    "collapsed": false
   },
   "outputs": [],
   "source": [
    "tag_dict = {\n",
    "    \"mysql.*\": \"mysql\"\n",
    "    ,\"innodb\": \"mysql\"\n",
    "    ,\"myisam\": \"mysql\"\n",
    "    ,\"sql-server.*\": \"sql-server\"\n",
    "    ,\"ssms\": \"sql-server\"\n",
    "    ,\"ssis\": \"sql-server\"\n",
    "    ,\"t-sql\": \"sql-server\"\n",
    "    ,\"postgresql.*\": \"postgres\"\n",
    "    ,\"oracle.*\": \"oracle\"\n",
    "    ,\"document-oriented\":\"mongodb\"\n",
    "    ,\"phpmyadmin\": \"postgres\"\n",
    "    ,\"plsql\": \"oracle\"\n",
    "    ,\"plpgsql\": \"postgres\"\n",
    "    ,\"sqlplus\": \"oracle\"\n",
    "    ,\"rman\": \"oracle\"\n",
    "    ,\"pgadmin\": \"postgres\"\n",
    "    ,\"windows-server.*\":\"sql-server\"\n",
    "    ,\"pg-dump\": \"postgres\"\n",
    "    ,\"psql\": \"postgres\"\n",
    "    ,\"postgis\": \"postgres\"\n",
    "    ,\"nosql\": \"mongodb\"\n",
    "    ,\"mongo.*\": \"mongodb\"\n",
    "        }"
   ]
  },
  {
   "cell_type": "code",
   "execution_count": 16,
   "metadata": {
    "collapsed": false
   },
   "outputs": [],
   "source": [
    "def standardize_tags(tag_list):\n",
    "#     tags_std=[tag.replace('innodb', 'mysql') for tag in tag_list]\n",
    "    import re\n",
    "    tags_std = tag_list\n",
    "    for key, value in tag_dict.items():\n",
    "        regex = re.compile(key, re.IGNORECASE)\n",
    "        tags_std=[regex.sub(value, tag) for tag in tags_std]\n",
    "#     for i in tag_dict:\n",
    "#         regex = re.compile(i, re.IGNORECASE)\n",
    "#         tags_std=[regex.sub(i% tag_dict[i], tag) for tag in tag_list]\n",
    "    return tags_std"
   ]
  },
  {
   "cell_type": "code",
   "execution_count": 17,
   "metadata": {
    "collapsed": false
   },
   "outputs": [
    {
     "data": {
      "text/plain": [
       "127212"
      ]
     },
     "execution_count": 17,
     "metadata": {},
     "output_type": "execute_result"
    }
   ],
   "source": [
    "tags_rdd=tags_df.rdd\n",
    "tags_rdd.count()"
   ]
  },
  {
   "cell_type": "code",
   "execution_count": 23,
   "metadata": {
    "collapsed": false
   },
   "outputs": [
    {
     "data": {
      "text/plain": [
       "53664"
      ]
     },
     "execution_count": 23,
     "metadata": {},
     "output_type": "execute_result"
    }
   ],
   "source": [
    "tags_not_empty=tags_rdd.filter(lambda x: x[1]!=None)\n",
    "tags_not_empty.count()"
   ]
  },
  {
   "cell_type": "code",
   "execution_count": 28,
   "metadata": {
    "collapsed": false
   },
   "outputs": [
    {
     "data": {
      "text/plain": [
       "[(1, {'mysql'}, datetime.date(2011, 1, 3), None),\n",
       " (2,\n",
       "  {'mysql', 'schema', 'version-control'},\n",
       "  datetime.date(2011, 1, 3),\n",
       "  datetime.date(2011, 1, 6)),\n",
       " (3,\n",
       "  {'database-design', 'erd'},\n",
       "  datetime.date(2011, 1, 3),\n",
       "  datetime.date(2011, 1, 6)),\n",
       " (5,\n",
       "  {'database-recommendation', 'mongodb', 'rdbms'},\n",
       "  datetime.date(2011, 1, 3),\n",
       "  datetime.date(2011, 1, 6)),\n",
       " (6,\n",
       "  {'postgres', 'replication'},\n",
       "  datetime.date(2011, 1, 3),\n",
       "  datetime.date(2011, 8, 16)),\n",
       " (14,\n",
       "  {'database-recommendation', 'mariadb', 'mysql'},\n",
       "  datetime.date(2011, 1, 3),\n",
       "  datetime.date(2011, 8, 16)),\n",
       " (20,\n",
       "  {'mysql', 'perfooracle'},\n",
       "  datetime.date(2011, 1, 3),\n",
       "  datetime.date(2011, 1, 6)),\n",
       " (21, {'sqlite'}, datetime.date(2011, 1, 3), datetime.date(2011, 8, 16)),\n",
       " (29,\n",
       "  {'learning', 'sql'},\n",
       "  datetime.date(2011, 1, 3),\n",
       "  datetime.date(2015, 4, 23)),\n",
       " (30,\n",
       "  {'postgres', 'trigger'},\n",
       "  datetime.date(2011, 1, 3),\n",
       "  datetime.date(2011, 12, 28))]"
      ]
     },
     "execution_count": 28,
     "metadata": {},
     "output_type": "execute_result"
    }
   ],
   "source": [
    "tags_clean=tags_not_empty \\\n",
    ".map(lambda x: (x[0], x[1].replace('><',', '), x[2], x[3])) \\\n",
    ".map(lambda x: (x[0], x[1].replace('<', ''), x[2], x[3])) \\\n",
    ".map(lambda x: (x[0], x[1].replace('>', ''), x[2], x[3]))\n",
    "\n",
    "tags_split=tags_clean \\\n",
    ".map(lambda x: (x[0], x[1].split(','), x[2], x[3])) \\\n",
    ".map(lambda x: (x[0], [e.strip() for e in x[1]], x[2], x[3]))\n",
    "\n",
    "tags_standardized=tags_split \\\n",
    ".map(lambda x: (x[0], standardize_tags(x[1]), x[2], x[3]))\n",
    "\n",
    "tags_unique = tags_standardized \\\n",
    ".map(lambda x: (x[0],set(x[1]), x[2], x[3]))\n",
    "\n",
    "tags_unique.take(10)"
   ]
  },
  {
   "cell_type": "code",
   "execution_count": 29,
   "metadata": {
    "collapsed": false
   },
   "outputs": [
    {
     "data": {
      "text/plain": [
       "{'mongodb', 'mysql', 'oracle', 'postgres', 'sql-server'}"
      ]
     },
     "execution_count": 29,
     "metadata": {},
     "output_type": "execute_result"
    }
   ],
   "source": [
    "unique_tags=set(tag_dict.values())\n",
    "unique_tags"
   ]
  },
  {
   "cell_type": "code",
   "execution_count": 37,
   "metadata": {
    "collapsed": false,
    "scrolled": false
   },
   "outputs": [
    {
     "data": {
      "text/plain": [
       "[(1, {'mysql'}, datetime.date(2011, 1, 3), None),\n",
       " (2, {'mysql'}, datetime.date(2011, 1, 3), datetime.date(2011, 1, 6)),\n",
       " (5, {'mongodb'}, datetime.date(2011, 1, 3), datetime.date(2011, 1, 6)),\n",
       " (6, {'postgres'}, datetime.date(2011, 1, 3), datetime.date(2011, 8, 16)),\n",
       " (14, {'mysql'}, datetime.date(2011, 1, 3), datetime.date(2011, 8, 16)),\n",
       " (20, {'mysql'}, datetime.date(2011, 1, 3), datetime.date(2011, 1, 6)),\n",
       " (30, {'postgres'}, datetime.date(2011, 1, 3), datetime.date(2011, 12, 28)),\n",
       " (33, {'mysql'}, datetime.date(2011, 1, 3), datetime.date(2011, 9, 28)),\n",
       " (36, {'mysql'}, datetime.date(2011, 1, 3), datetime.date(2011, 8, 16)),\n",
       " (43, {'mysql'}, datetime.date(2011, 1, 3), datetime.date(2016, 11, 9)),\n",
       " (47, {'sql-server'}, datetime.date(2011, 1, 3), None),\n",
       " (49, {'mongodb'}, datetime.date(2011, 1, 3), datetime.date(2011, 8, 14)),\n",
       " (56, {'sql-server'}, datetime.date(2011, 1, 3), datetime.date(2013, 2, 22)),\n",
       " (63, {'mysql'}, datetime.date(2011, 1, 3), datetime.date(2011, 8, 16)),\n",
       " (64, {'sql-server'}, datetime.date(2011, 1, 3), datetime.date(2015, 12, 26)),\n",
       " (66, {'postgres'}, datetime.date(2011, 1, 3), datetime.date(2011, 1, 4)),\n",
       " (71, {'sql-server'}, datetime.date(2011, 1, 4), datetime.date(2016, 11, 22)),\n",
       " (80, {'oracle'}, datetime.date(2011, 1, 4), datetime.date(2011, 1, 4)),\n",
       " (81, {'oracle'}, datetime.date(2011, 1, 4), datetime.date(2011, 1, 4)),\n",
       " (82, {'oracle'}, datetime.date(2011, 1, 4), datetime.date(2011, 9, 19))]"
      ]
     },
     "execution_count": 37,
     "metadata": {},
     "output_type": "execute_result"
    }
   ],
   "source": [
    "post_tags_meaningful = tags_unique \\\n",
    ".map(lambda x: (x[0],x[1].intersection(unique_tags), x[2], x[3])) \\\n",
    ".filter(lambda x: bool(x[1]))\n",
    "post_tags_meaningful.take(20)"
   ]
  },
  {
   "cell_type": "code",
   "execution_count": 52,
   "metadata": {
    "collapsed": false
   },
   "outputs": [
    {
     "data": {
      "text/plain": [
       "19002"
      ]
     },
     "execution_count": 52,
     "metadata": {},
     "output_type": "execute_result"
    }
   ],
   "source": [
    "post_tags_meaningful.filter(lambda x: x[3] == None).count()"
   ]
  },
  {
   "cell_type": "code",
   "execution_count": 38,
   "metadata": {
    "collapsed": false,
    "scrolled": false
   },
   "outputs": [
    {
     "data": {
      "text/plain": [
       "[(96,\n",
       "  {'mysql', 'postgres'},\n",
       "  datetime.date(2011, 1, 4),\n",
       "  datetime.date(2011, 8, 16)),\n",
       " (287, {'oracle', 'sql-server'}, datetime.date(2011, 1, 5), None),\n",
       " (297,\n",
       "  {'oracle', 'sql-server'},\n",
       "  datetime.date(2011, 1, 5),\n",
       "  datetime.date(2011, 1, 10)),\n",
       " (409,\n",
       "  {'oracle', 'sql-server'},\n",
       "  datetime.date(2011, 1, 7),\n",
       "  datetime.date(2014, 4, 23)),\n",
       " (549, {'mysql', 'postgres'}, datetime.date(2011, 1, 11), None),\n",
       " (688,\n",
       "  {'mysql', 'sql-server'},\n",
       "  datetime.date(2011, 1, 18),\n",
       "  datetime.date(2011, 8, 19)),\n",
       " (785,\n",
       "  {'mysql', 'oracle'},\n",
       "  datetime.date(2011, 1, 22),\n",
       "  datetime.date(2011, 1, 22)),\n",
       " (830,\n",
       "  {'mysql', 'sql-server'},\n",
       "  datetime.date(2011, 1, 24),\n",
       "  datetime.date(2011, 8, 15)),\n",
       " (831,\n",
       "  {'mysql', 'sql-server'},\n",
       "  datetime.date(2011, 1, 24),\n",
       "  datetime.date(2011, 1, 27)),\n",
       " (1099, {'mysql', 'postgres'}, datetime.date(2011, 2, 6), None),\n",
       " (1322,\n",
       "  {'oracle', 'sql-server'},\n",
       "  datetime.date(2011, 2, 18),\n",
       "  datetime.date(2011, 2, 21)),\n",
       " (1339, {'mysql', 'postgres'}, datetime.date(2011, 2, 19), None),\n",
       " (1388, {'oracle', 'sql-server'}, datetime.date(2011, 2, 22), None),\n",
       " (1436,\n",
       "  {'oracle', 'sql-server'},\n",
       "  datetime.date(2011, 2, 25),\n",
       "  datetime.date(2011, 2, 26)),\n",
       " (1442, {'mysql', 'sql-server'}, datetime.date(2011, 2, 25), None),\n",
       " (1492,\n",
       "  {'mysql', 'oracle'},\n",
       "  datetime.date(2011, 2, 28),\n",
       "  datetime.date(2013, 1, 16)),\n",
       " (1611,\n",
       "  {'oracle', 'sql-server'},\n",
       "  datetime.date(2011, 3, 8),\n",
       "  datetime.date(2011, 3, 8)),\n",
       " (1723,\n",
       "  {'oracle', 'sql-server'},\n",
       "  datetime.date(2011, 3, 13),\n",
       "  datetime.date(2011, 12, 5)),\n",
       " (1825, {'oracle', 'sql-server'}, datetime.date(2011, 3, 21), None),\n",
       " (1847, {'oracle', 'sql-server'}, datetime.date(2011, 3, 22), None)]"
      ]
     },
     "execution_count": 38,
     "metadata": {},
     "output_type": "execute_result"
    }
   ],
   "source": [
    "common_tags = post_tags_meaningful.filter(lambda x: len(x[1])>1)\n",
    "common_tags.take(20)"
   ]
  },
  {
   "cell_type": "code",
   "execution_count": 76,
   "metadata": {
    "collapsed": false,
    "scrolled": true
   },
   "outputs": [
    {
     "name": "stdout",
     "output_type": "stream",
     "text": [
      "+---+------------+------------+------------+\n",
      "| Id|        Tags|CreationDate|LastEditDate|\n",
      "+---+------------+------------+------------+\n",
      "|  1|     [mysql]|  2011-01-03|  2017-05-26|\n",
      "|  2|     [mysql]|  2011-01-03|  2011-01-06|\n",
      "|  5|   [mongodb]|  2011-01-03|  2011-01-06|\n",
      "|  6|  [postgres]|  2011-01-03|  2011-08-16|\n",
      "| 14|     [mysql]|  2011-01-03|  2011-08-16|\n",
      "| 20|     [mysql]|  2011-01-03|  2011-01-06|\n",
      "| 30|  [postgres]|  2011-01-03|  2011-12-28|\n",
      "| 33|     [mysql]|  2011-01-03|  2011-09-28|\n",
      "| 36|     [mysql]|  2011-01-03|  2011-08-16|\n",
      "| 43|     [mysql]|  2011-01-03|  2016-11-09|\n",
      "| 47|[sql-server]|  2011-01-03|  2017-05-26|\n",
      "| 49|   [mongodb]|  2011-01-03|  2011-08-14|\n",
      "| 56|[sql-server]|  2011-01-03|  2013-02-22|\n",
      "| 63|     [mysql]|  2011-01-03|  2011-08-16|\n",
      "| 64|[sql-server]|  2011-01-03|  2015-12-26|\n",
      "| 66|  [postgres]|  2011-01-03|  2011-01-04|\n",
      "| 71|[sql-server]|  2011-01-04|  2016-11-22|\n",
      "| 80|    [oracle]|  2011-01-04|  2011-01-04|\n",
      "| 81|    [oracle]|  2011-01-04|  2011-01-04|\n",
      "| 82|    [oracle]|  2011-01-04|  2011-09-19|\n",
      "+---+------------+------------+------------+\n",
      "only showing top 20 rows\n",
      "\n"
     ]
    }
   ],
   "source": [
    "post_tags_to_write=post_tags_meaningful \\\n",
    ".map(lambda x: (x[0],list(x[1]), x[2], x[3]))\n",
    "\n",
    "fields = [\n",
    "    StructField('Id', IntegerType(), True),\n",
    "    StructField('Tags', StringType(), True),\n",
    "    StructField('CreationDate', DateType(), True),\n",
    "    StructField('LastEditDate', DateType(), True)]\n",
    "schema = StructType(fields)\n",
    "df=sqlContext.createDataFrame(post_tags_to_write, schema, samplingRatio = 0.1)\n",
    "df_filled = df \\\n",
    ".withColumn('LastEditDate', when(\n",
    "        col('LastEditDate').isNull(), datetime.date.today()).otherwise(col('LastEditDate')))\n",
    "df_filled.show()"
   ]
  },
  {
   "cell_type": "code",
   "execution_count": 77,
   "metadata": {
    "collapsed": false
   },
   "outputs": [],
   "source": [
    "df_filled.coalesce(1).write.parquet(\"data/results/Posts_clean_parquet\")"
   ]
  },
  {
   "cell_type": "code",
   "execution_count": 78,
   "metadata": {
    "collapsed": false,
    "scrolled": true
   },
   "outputs": [
    {
     "name": "stdout",
     "output_type": "stream",
     "text": [
      "+---+----------+------------+------------+\n",
      "| Id|      Tags|CreationDate|LastEditDate|\n",
      "+---+----------+------------+------------+\n",
      "|  1|   [mysql]|  2011-01-03|  2017-05-26|\n",
      "|  2|   [mysql]|  2011-01-03|  2011-01-06|\n",
      "|  5| [mongodb]|  2011-01-03|  2011-01-06|\n",
      "|  6|[postgres]|  2011-01-03|  2011-08-16|\n",
      "| 14|   [mysql]|  2011-01-03|  2011-08-16|\n",
      "+---+----------+------------+------------+\n",
      "only showing top 5 rows\n",
      "\n"
     ]
    }
   ],
   "source": [
    "df1 = sqlContext.read.parquet(\"./data/results/Posts_clean_parquet/Posts.parquet\")\n",
    "# tags_df=df \\\n",
    "# .select(df[\"Id\"].cast('int'), \n",
    "#         df[\"Tags\"], \n",
    "#         df[\"CreationDate\"].cast('date'), \n",
    "#         df['LastEditDate'].cast('date'))\n",
    "df1.show(5)"
   ]
  }
 ],
 "metadata": {
  "anaconda-cloud": {},
  "kernelspec": {
   "display_name": "Python [conda root]",
   "language": "python",
   "name": "conda-root-py"
  },
  "language_info": {
   "codemirror_mode": {
    "name": "ipython",
    "version": 3
   },
   "file_extension": ".py",
   "mimetype": "text/x-python",
   "name": "python",
   "nbconvert_exporter": "python",
   "pygments_lexer": "ipython3",
   "version": "3.5.2"
  }
 },
 "nbformat": 4,
 "nbformat_minor": 1
}
