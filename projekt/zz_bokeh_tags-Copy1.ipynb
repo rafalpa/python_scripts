{
 "cells": [
  {
   "cell_type": "markdown",
   "metadata": {},
   "source": [
    "# Tags: data discovery"
   ]
  },
  {
   "cell_type": "markdown",
   "metadata": {},
   "source": [
    "![](materialy/praca_koncowa_strona_tytulowa_BD.doc)"
   ]
  },
  {
   "cell_type": "markdown",
   "metadata": {},
   "source": [
    "## CEL: globalna firma konsultingowa chce otworzyć oddzial wspierajacy rozwiazania BI w konkretnych technologiach\n",
    "1. zrobić ranking krajów/regionów w/g (**zbadać trend**):\n",
    "* najaktywniejszych(liczba odpowiedzi)\n",
    "* najbardziej doswiadczonych (badges/votes)\n",
    "userów z podzialem na:\n",
    "* technologie Oracle/MSSQL(tags)\n",
    "* dziedzine BI/DWH/Operational w/g Postów (zawierajacych okreslenia typu BI, nazwy Tooli do BI i wyrazów zwiazanych)\n",
    "\n",
    "\n",
    "\n",
    "1. Tags, Posts ... ladowane do sparka, czyszczone, transformowane, zrzucane do innej lokalizacji, wykorzystywane przez aplikacje"
   ]
  },
  {
   "cell_type": "markdown",
   "metadata": {},
   "source": [
    "Posts join Tags on \n",
    "\n",
    "select\n",
    "from \n"
   ]
  },
  {
   "cell_type": "code",
   "execution_count": 1,
   "metadata": {
    "collapsed": false
   },
   "outputs": [],
   "source": [
    "import pyspark\n",
    "from pyspark.sql import Row\n",
    "from collections import OrderedDict\n",
    "from pyspark.sql import SparkSession\n",
    "from pyspark.sql.types import StructType,StringType,IntegerType,StructField\n",
    "sc = pyspark.SparkContext(appName=\"DBstackex\")\n",
    "from pyspark.sql import SQLContext\n",
    "# from pyspark.sql.types import *\n",
    "sqlContext = SQLContext(sc)\n",
    "from pyspark.sql.types import *\n",
    "import matplotlib.pyplot as plt\n",
    "from pyspark.sql.functions import col"
   ]
  },
  {
   "cell_type": "code",
   "execution_count": 17,
   "metadata": {
    "collapsed": true
   },
   "outputs": [],
   "source": [
    "import json"
   ]
  },
  {
   "cell_type": "code",
   "execution_count": 29,
   "metadata": {
    "collapsed": false
   },
   "outputs": [
    {
     "data": {
      "text/plain": [
       "[{'Count': '13032',\n",
       "  'ExcerptPostId': '2667',\n",
       "  'Id': '1',\n",
       "  'TagName': 'mysql',\n",
       "  'WikiPostId': '2666'},\n",
       " {'Count': '1492',\n",
       "  'ExcerptPostId': '3131',\n",
       "  'Id': '2',\n",
       "  'TagName': 'innodb',\n",
       "  'WikiPostId': '3130'}]"
      ]
     },
     "execution_count": 29,
     "metadata": {},
     "output_type": "execute_result"
    }
   ],
   "source": [
    "tags_rdd=sc.textFile(\"./data/results/Tags/part-00000\").map(lambda x: json.loads(x))\n",
    "tags_rdd.take(2)"
   ]
  },
  {
   "cell_type": "code",
   "execution_count": 30,
   "metadata": {
    "collapsed": false
   },
   "outputs": [
    {
     "data": {
      "text/plain": [
       "['mysql', 'innodb', 'myisam', 'schema', 'nosql']"
      ]
     },
     "execution_count": 30,
     "metadata": {},
     "output_type": "execute_result"
    }
   ],
   "source": [
    "tags_rdd.map(lambda x:x['TagName']).take(5)"
   ]
  },
  {
   "cell_type": "markdown",
   "metadata": {},
   "source": [
    "## Unique tags"
   ]
  },
  {
   "cell_type": "code",
   "execution_count": 4,
   "metadata": {
    "collapsed": false,
    "scrolled": true
   },
   "outputs": [
    {
     "name": "stdout",
     "output_type": "stream",
     "text": [
      "+-------------------+-----+\n",
      "|            TagName|Count|\n",
      "+-------------------+-----+\n",
      "|         sql-server|17351|\n",
      "|              mysql|13032|\n",
      "|                sql| 7966|\n",
      "|         postgresql| 6160|\n",
      "|             oracle| 4720|\n",
      "|    database-design| 3517|\n",
      "|    sql-server-2008| 3433|\n",
      "| sql-server-2008-r2| 3264|\n",
      "|    sql-server-2012| 3199|\n",
      "|        performance| 2066|\n",
      "|        replication| 2049|\n",
      "|              index| 1708|\n",
      "|              t-sql| 1552|\n",
      "|             innodb| 1492|\n",
      "|    sql-server-2014| 1467|\n",
      "|  query-performance| 1430|\n",
      "|             backup| 1345|\n",
      "|    sql-server-2005| 1284|\n",
      "|            mongodb| 1139|\n",
      "|      oracle-11g-r2| 1009|\n",
      "|          mysql-5.5|  994|\n",
      "|  stored-procedures|  973|\n",
      "|       optimization|  935|\n",
      "|               join|  927|\n",
      "|        permissions|  831|\n",
      "|            trigger|  788|\n",
      "|            restore|  773|\n",
      "|               ssis|  665|\n",
      "|           security|  639|\n",
      "|          mysql-5.6|  627|\n",
      "|            mariadb|  623|\n",
      "|             schema|  619|\n",
      "|               ssms|  607|\n",
      "|             select|  553|\n",
      "|                db2|  542|\n",
      "|        foreign-key|  521|\n",
      "|       partitioning|  513|\n",
      "|availability-groups|  512|\n",
      "|     postgresql-9.3|  512|\n",
      "|          migration|  492|\n",
      "|         oracle-11g|  491|\n",
      "|          mysqldump|  487|\n",
      "|             update|  487|\n",
      "|              linux|  471|\n",
      "|          ms-access|  469|\n",
      "|            locking|  448|\n",
      "|                php|  440|\n",
      "|       index-tuning|  435|\n",
      "|    transaction-log|  430|\n",
      "|      normalization|  426|\n",
      "+-------------------+-----+\n",
      "only showing top 50 rows\n",
      "\n"
     ]
    }
   ],
   "source": [
    "df = sqlContext.read.json(\"./data/results/Tags/part-00000\")\n",
    "df.select(df[\"TagName\"], df[\"Count\"].cast('int')) \\\n",
    ".filter(df[\"Count\"] > 300).sort(col(\"Count\").desc()).show(50)"
   ]
  },
  {
   "cell_type": "code",
   "execution_count": null,
   "metadata": {
    "collapsed": true
   },
   "outputs": [],
   "source": [
    "new_df=df.select(df[\"Count\"].cast('int'), df[\"ExcerptPostId\"].cast('int'), df[\"Id\"].cast('int'), \"TagName\", df[\"WikiPostId\"].cast('int'))\n",
    "new_df=new_df.filter(new_df[\"Count\"] > 1000).sort(new_df[\"Count\"])\n",
    "new_df.show()"
   ]
  },
  {
   "cell_type": "code",
   "execution_count": null,
   "metadata": {
    "collapsed": false
   },
   "outputs": [],
   "source": [
    "%matplotlib inline\n",
    "pdf=new_df.toPandas().plot(x=\"TagName\", y=\"Count\", kind=\"bar\")"
   ]
  },
  {
   "cell_type": "code",
   "execution_count": null,
   "metadata": {
    "collapsed": true
   },
   "outputs": [],
   "source": [
    "# from bokeh.plotting import figure, output_file, show\n",
    "# plot = Bar(data=new_df.toPandas(),values='Count')\n",
    "# plot.Bar(x=plotDf[\"TagName\"], y=plotDf[\"Count\"], size=20)\n",
    "# show(plot)"
   ]
  },
  {
   "cell_type": "code",
   "execution_count": null,
   "metadata": {
    "collapsed": true
   },
   "outputs": [],
   "source": [
    "# df.sqlContext.read.schema(schema).json(events) \\\n",
    "# .select($\"action\", $\"timestamp\".cast(LongType)).show"
   ]
  },
  {
   "cell_type": "code",
   "execution_count": null,
   "metadata": {
    "collapsed": false
   },
   "outputs": [],
   "source": [
    "df.select(\"TagName\", \"Count\").registerTempTable(\"tags\")\n",
    "# df.filter(df[\"Count\"] > 1000).show()"
   ]
  }
 ],
 "metadata": {
  "anaconda-cloud": {},
  "kernelspec": {
   "display_name": "Python [conda root]",
   "language": "python",
   "name": "conda-root-py"
  },
  "language_info": {
   "codemirror_mode": {
    "name": "ipython",
    "version": 3
   },
   "file_extension": ".py",
   "mimetype": "text/x-python",
   "name": "python",
   "nbconvert_exporter": "python",
   "pygments_lexer": "ipython3",
   "version": "3.5.2"
  }
 },
 "nbformat": 4,
 "nbformat_minor": 1
}
