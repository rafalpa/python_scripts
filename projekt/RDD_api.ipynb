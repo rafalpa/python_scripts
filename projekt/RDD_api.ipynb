{
 "cells": [
  {
   "cell_type": "code",
   "execution_count": 2,
   "metadata": {
    "collapsed": false
   },
   "outputs": [
    {
     "data": {
      "text/plain": [
       "[{'Count': '13032',\n",
       "  'ExcerptPostId': '2667',\n",
       "  'Id': '1',\n",
       "  'TagName': 'mysql',\n",
       "  'WikiPostId': '2666'},\n",
       " {'Count': '1492',\n",
       "  'ExcerptPostId': '3131',\n",
       "  'Id': '2',\n",
       "  'TagName': 'innodb',\n",
       "  'WikiPostId': '3130'}]"
      ]
     },
     "execution_count": 2,
     "metadata": {},
     "output_type": "execute_result"
    }
   ],
   "source": [
    "import pyspark\n",
    "sc = pyspark.SparkContext(appName=\"DBstackex\")\n",
    "twitterPath=\"./data/results/Tags/part-00000\"\n",
    "\n",
    "import json\n",
    "twitterData=sc.textFile(twitterPath).map(lambda x:json.loads(x)) #RDD\n",
    "\n",
    "twitterData.take(2)"
   ]
  },
  {
   "cell_type": "code",
   "execution_count": 3,
   "metadata": {
    "collapsed": false
   },
   "outputs": [
    {
     "data": {
      "text/plain": [
       "['13032']"
      ]
     },
     "execution_count": 3,
     "metadata": {},
     "output_type": "execute_result"
    }
   ],
   "source": [
    "twitterData.\\\n",
    "    filter(lambda x:x['TagName']==\"mysql\").\\\n",
    "    map(lambda x:x['Count'])\\\n",
    "    .take(10)"
   ]
  }
 ],
 "metadata": {
  "kernelspec": {
   "display_name": "Python [conda root]",
   "language": "python",
   "name": "conda-root-py"
  },
  "language_info": {
   "codemirror_mode": {
    "name": "ipython",
    "version": 3
   },
   "file_extension": ".py",
   "mimetype": "text/x-python",
   "name": "python",
   "nbconvert_exporter": "python",
   "pygments_lexer": "ipython3",
   "version": "3.5.2"
  }
 },
 "nbformat": 4,
 "nbformat_minor": 1
}
