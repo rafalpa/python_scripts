{
 "cells": [
  {
   "cell_type": "markdown",
   "metadata": {},
   "source": [
    "# 1. Założenia\n",
    "## 1.1 Cel analizy\n",
    "Globalna firma konsultingowa, zatrudnia programistów specjalizujących się w różnych technologiach i planuje rozszerzyć pakiet swoich usług o doractwo w zakresie baz danych. Aby uzyskać jak największy zwrot inwestycji i zapewnić najłatwiejszy dostęp do specjalistów chce sie dowiedzieć które z wiodących rozwiązań jest najpopularniejsze wśród programistów."
   ]
  },
  {
   "cell_type": "markdown",
   "metadata": {},
   "source": [
    "## 1.2 Źródło danych\n",
    "Jako żródło danych do analizy przyjęto zbiór https://archive.org/download/stackexchange/dba.stackexchange.com.7z zawierający zrzut wszystkich danych z portalu https://dba.stackexchange.com/ będący forum wymiany wiedzy dla specjalistów zajmujących się bazami danych."
   ]
  },
  {
   "cell_type": "markdown",
   "metadata": {},
   "source": [
    "## 1.3 Wybór technologii\n",
    "Do analizy wybranego zbioru wybrano Apache Spark, gdyż:\n",
    "1. pozwala na efektywne przetwarzanie dużych zbiorów danych, \n",
    "2. umożliwia przetwarzanie w pamięci bez potrzeby zrzucania posrednich wyników na dysk co przyspiesza eksplorację i transformację danych,\n",
    "3. zapewnia przyjazne API w pythonie (PySpark)\n",
    "4. pozwala skalować zdefiniowane operacje, co umożliwi w przyszłości powtórzenie analizy na dowolnie dużym zbiorze danych o podobnym formacie (inne portale, np. stack overflow)"
   ]
  },
  {
   "cell_type": "markdown",
   "metadata": {},
   "source": [
    "# 2. Parsowanie danych źródłowych i ETL\n",
    "Dane z portalu dba.stackexchange są w formacie xml, aby się im przyjrzeć wczytamy je do pamięci za pomocą SparkContext:"
   ]
  },
  {
   "cell_type": "code",
   "execution_count": 1,
   "metadata": {
    "collapsed": false
   },
   "outputs": [],
   "source": [
    "import pyspark\n",
    "\n",
    "sc = pyspark.SparkContext(appName=\"DBstackex\")\n",
    "#wczytanie pliku Tags.xml do RDD\n",
    "xml_file = sc.textFile('data/input/Tags.xml')"
   ]
  },
  {
   "cell_type": "code",
   "execution_count": 2,
   "metadata": {
    "collapsed": false,
    "scrolled": true
   },
   "outputs": [
    {
     "data": {
      "text/plain": [
       "['<?xml version=\"1.0\" encoding=\"utf-8\"?>',\n",
       " '<tags>',\n",
       " '  <row Id=\"1\" TagName=\"mysql\" Count=\"13032\" ExcerptPostId=\"2667\" WikiPostId=\"2666\" />',\n",
       " '  <row Id=\"2\" TagName=\"innodb\" Count=\"1492\" ExcerptPostId=\"3131\" WikiPostId=\"3130\" />']"
      ]
     },
     "execution_count": 2,
     "metadata": {},
     "output_type": "execute_result"
    }
   ],
   "source": [
    "xml_file.take(4)"
   ]
  },
  {
   "cell_type": "markdown",
   "metadata": {},
   "source": [
    "Aby pozbyć się niepotrzebnych tagów xml z poczatku i końca pliku, odfiltrujemy wiersze zaczynające się od \"<row\""
   ]
  },
  {
   "cell_type": "code",
   "execution_count": 3,
   "metadata": {
    "collapsed": false
   },
   "outputs": [
    {
     "data": {
      "text/plain": [
       "['  <row Id=\"1\" TagName=\"mysql\" Count=\"13032\" ExcerptPostId=\"2667\" WikiPostId=\"2666\" />',\n",
       " '  <row Id=\"2\" TagName=\"innodb\" Count=\"1492\" ExcerptPostId=\"3131\" WikiPostId=\"3130\" />',\n",
       " '  <row Id=\"3\" TagName=\"myisam\" Count=\"374\" ExcerptPostId=\"3144\" WikiPostId=\"3143\" />',\n",
       " '  <row Id=\"4\" TagName=\"schema\" Count=\"619\" ExcerptPostId=\"4367\" WikiPostId=\"4366\" />']"
      ]
     },
     "execution_count": 3,
     "metadata": {},
     "output_type": "execute_result"
    }
   ],
   "source": [
    "tags = xml_file.filter(lambda l: l.strip().startswith(\"<row\"))\n",
    "tags.take(4)"
   ]
  },
  {
   "cell_type": "markdown",
   "metadata": {},
   "source": [
    "Aby zinterpretować pozostałe tagi xml użyjemy biblioteki \"xml.etree.ElementTree\" przekształcającej kazdy wiersz na hierarchiczny element zawierający informację o tag'u oraz słownik atrybutów"
   ]
  },
  {
   "cell_type": "code",
   "execution_count": 4,
   "metadata": {
    "collapsed": false,
    "scrolled": true
   },
   "outputs": [
    {
     "data": {
      "text/plain": [
       "[{'Count': '13032',\n",
       "  'ExcerptPostId': '2667',\n",
       "  'Id': '1',\n",
       "  'TagName': 'mysql',\n",
       "  'WikiPostId': '2666'},\n",
       " {'Count': '1492',\n",
       "  'ExcerptPostId': '3131',\n",
       "  'Id': '2',\n",
       "  'TagName': 'innodb',\n",
       "  'WikiPostId': '3130'}]"
      ]
     },
     "execution_count": 4,
     "metadata": {},
     "output_type": "execute_result"
    }
   ],
   "source": [
    "import xml.etree.ElementTree as ET\n",
    "elements = tags.map(lambda l: ET.fromstring(l))\n",
    "#stworzymy nowe RDD składające się ze słowników, każdy zawierający atrybuty elementu row jako klucze oraz wartości atrybutów\n",
    "keys_values = elements.map(lambda l: l.attrib)\n",
    "keys_values.take(2)"
   ]
  },
  {
   "cell_type": "markdown",
   "metadata": {},
   "source": [
    "Element typu row może zawierać dowolną ilość atrybutów. Musimy uzyskac najszerszy zbiór atrybutów występujący w zbiorze, narzucić go wszystkim elementom. Jeżeli jakiś element nie zawierał wczesniej tego atrybutu musimy mu go przypisać z wartością None."
   ]
  },
  {
   "cell_type": "code",
   "execution_count": 5,
   "metadata": {
    "collapsed": false,
    "scrolled": true
   },
   "outputs": [
    {
     "data": {
      "text/plain": [
       "['TagName', 'WikiPostId', 'Count', 'ExcerptPostId', 'Id']"
      ]
     },
     "execution_count": 5,
     "metadata": {},
     "output_type": "execute_result"
    }
   ],
   "source": [
    "# tworzymy liste unikalnych atrybutów w całym pliku\n",
    "col_list = list(keys_values.flatMap(lambda d: d.keys()).distinct().toLocalIterator())\n",
    "col_list"
   ]
  },
  {
   "cell_type": "markdown",
   "metadata": {},
   "source": [
    "Każdy słownik w naszym obecnym RDD uzupełnimy o brakujące atrybuty i zwrócimy w postaci wiersza, co umożliwi nam przekształcenie RDD do postaci DataFrame. Do tego przeksztacenia zdefiniujemy osobną funkcję:"
   ]
  },
  {
   "cell_type": "code",
   "execution_count": 6,
   "metadata": {
    "collapsed": false
   },
   "outputs": [],
   "source": [
    "from pyspark.sql import Row\n",
    "from collections import OrderedDict\n",
    "\n",
    "def convert_to_row(d: dict) -> Row:\n",
    "    dd={}\n",
    "    for k in col_list:\n",
    "        if k in d:\n",
    "            dd[k] = d[k]\n",
    "        else:\n",
    "            dd[k] = None\n",
    "    return Row(**OrderedDict(sorted(dd.items())))"
   ]
  },
  {
   "cell_type": "code",
   "execution_count": 7,
   "metadata": {
    "collapsed": false,
    "scrolled": false
   },
   "outputs": [
    {
     "data": {
      "text/plain": [
       "[Row(Count='13032', ExcerptPostId='2667', Id='1', TagName='mysql', WikiPostId='2666'),\n",
       " Row(Count='1492', ExcerptPostId='3131', Id='2', TagName='innodb', WikiPostId='3130'),\n",
       " Row(Count='374', ExcerptPostId='3144', Id='3', TagName='myisam', WikiPostId='3143'),\n",
       " Row(Count='619', ExcerptPostId='4367', Id='4', TagName='schema', WikiPostId='4366')]"
      ]
     },
     "execution_count": 7,
     "metadata": {},
     "output_type": "execute_result"
    }
   ],
   "source": [
    "df = keys_values.map(convert_to_row)\n",
    "df.take(4)"
   ]
  },
  {
   "cell_type": "markdown",
   "metadata": {},
   "source": [
    "Możemy teraz przekształcić RDD do DataFrame aby skorzystać z wysokopoziomowego API i więszej ilości predefiniowanych funckcji. Musimy do tego użyć dostępnego w Spark 2.0 SQLContext."
   ]
  },
  {
   "cell_type": "code",
   "execution_count": 8,
   "metadata": {
    "collapsed": false,
    "scrolled": true
   },
   "outputs": [
    {
     "data": {
      "text/html": [
       "<div>\n",
       "<table border=\"1\" class=\"dataframe\">\n",
       "  <thead>\n",
       "    <tr style=\"text-align: right;\">\n",
       "      <th></th>\n",
       "      <th>Count</th>\n",
       "      <th>ExcerptPostId</th>\n",
       "      <th>Id</th>\n",
       "      <th>TagName</th>\n",
       "      <th>WikiPostId</th>\n",
       "    </tr>\n",
       "  </thead>\n",
       "  <tbody>\n",
       "    <tr>\n",
       "      <th>0</th>\n",
       "      <td>13032</td>\n",
       "      <td>2667</td>\n",
       "      <td>1</td>\n",
       "      <td>mysql</td>\n",
       "      <td>2666</td>\n",
       "    </tr>\n",
       "    <tr>\n",
       "      <th>1</th>\n",
       "      <td>1492</td>\n",
       "      <td>3131</td>\n",
       "      <td>2</td>\n",
       "      <td>innodb</td>\n",
       "      <td>3130</td>\n",
       "    </tr>\n",
       "    <tr>\n",
       "      <th>2</th>\n",
       "      <td>374</td>\n",
       "      <td>3144</td>\n",
       "      <td>3</td>\n",
       "      <td>myisam</td>\n",
       "      <td>3143</td>\n",
       "    </tr>\n",
       "    <tr>\n",
       "      <th>3</th>\n",
       "      <td>619</td>\n",
       "      <td>4367</td>\n",
       "      <td>4</td>\n",
       "      <td>schema</td>\n",
       "      <td>4366</td>\n",
       "    </tr>\n",
       "  </tbody>\n",
       "</table>\n",
       "</div>"
      ],
      "text/plain": [
       "   Count ExcerptPostId Id TagName WikiPostId\n",
       "0  13032          2667  1   mysql       2666\n",
       "1   1492          3131  2  innodb       3130\n",
       "2    374          3144  3  myisam       3143\n",
       "3    619          4367  4  schema       4366"
      ]
     },
     "execution_count": 8,
     "metadata": {},
     "output_type": "execute_result"
    }
   ],
   "source": [
    "from pyspark.sql import SQLContext\n",
    "sqlContext = SQLContext(sc)\n",
    "\n",
    "df=sqlContext.createDataFrame(df, samplingRatio = 0.1)\n",
    "df.limit(4).toPandas()"
   ]
  },
  {
   "cell_type": "markdown",
   "metadata": {},
   "source": [
    "Aby umożliwić dalsze analizy na zbiorze zapiszemy wszystkie przekształcone dane w postaci parquet. Ten format pozwoli nam zaoszczędzić miejsce na dysku oraz przyspieszy operację wykonywane na całych kolumnach (filtrowanie, aggregacje)."
   ]
  },
  {
   "cell_type": "code",
   "execution_count": 9,
   "metadata": {
    "collapsed": true
   },
   "outputs": [],
   "source": [
    "#df.coalesce(1).write.parquet(\"data/results/Posts_parquet\")"
   ]
  },
  {
   "cell_type": "markdown",
   "metadata": {
    "collapsed": true
   },
   "source": [
    "Podobny pipeline czyszczący dane zostanie użyty do przetworzenia pozostałych plików xml."
   ]
  },
  {
   "cell_type": "code",
   "execution_count": 10,
   "metadata": {
    "collapsed": false
   },
   "outputs": [],
   "source": [
    "xml_file=sc.textFile('data/input/Posts.xml')\n",
    "tags=xml_file.filter(lambda l: l.strip().startswith(\"<row\"))\n",
    "elements = tags.map(lambda l: ET.fromstring(l))\n",
    "keys_values = elements.map(lambda l: l.attrib)\n",
    "col_list = list(keys_values.flatMap(lambda d: d.keys()).distinct().toLocalIterator())\n",
    "df = keys_values.map(convert_to_row)\n",
    "df=sqlContext.createDataFrame(df, samplingRatio = 0.1)"
   ]
  },
  {
   "cell_type": "markdown",
   "metadata": {},
   "source": [
    "# 3. Czyszczenie danych\n",
    "## 3.1 Tagi\n",
    "Ponieważ interesują nas tylko wiodące technologie bazodanowe, musimy ustalić ja najpierw określić na podstawie ilości postów z tagiem definiującym przynależność tematyczną postu do danej technologii."
   ]
  },
  {
   "cell_type": "code",
   "execution_count": 12,
   "metadata": {
    "collapsed": false
   },
   "outputs": [
    {
     "data": {
      "text/html": [
       "<div>\n",
       "<table border=\"1\" class=\"dataframe\">\n",
       "  <thead>\n",
       "    <tr style=\"text-align: right;\">\n",
       "      <th></th>\n",
       "      <th>Count</th>\n",
       "      <th>ExcerptPostId</th>\n",
       "      <th>Id</th>\n",
       "      <th>TagName</th>\n",
       "      <th>WikiPostId</th>\n",
       "    </tr>\n",
       "  </thead>\n",
       "  <tbody>\n",
       "    <tr>\n",
       "      <th>0</th>\n",
       "      <td>13032</td>\n",
       "      <td>2667</td>\n",
       "      <td>1</td>\n",
       "      <td>mysql</td>\n",
       "      <td>2666</td>\n",
       "    </tr>\n",
       "    <tr>\n",
       "      <th>1</th>\n",
       "      <td>1492</td>\n",
       "      <td>3131</td>\n",
       "      <td>2</td>\n",
       "      <td>innodb</td>\n",
       "      <td>3130</td>\n",
       "    </tr>\n",
       "    <tr>\n",
       "      <th>2</th>\n",
       "      <td>374</td>\n",
       "      <td>3144</td>\n",
       "      <td>3</td>\n",
       "      <td>myisam</td>\n",
       "      <td>3143</td>\n",
       "    </tr>\n",
       "    <tr>\n",
       "      <th>3</th>\n",
       "      <td>619</td>\n",
       "      <td>4367</td>\n",
       "      <td>4</td>\n",
       "      <td>schema</td>\n",
       "      <td>4366</td>\n",
       "    </tr>\n",
       "  </tbody>\n",
       "</table>\n",
       "</div>"
      ],
      "text/plain": [
       "   Count ExcerptPostId Id TagName WikiPostId\n",
       "0  13032          2667  1   mysql       2666\n",
       "1   1492          3131  2  innodb       3130\n",
       "2    374          3144  3  myisam       3143\n",
       "3    619          4367  4  schema       4366"
      ]
     },
     "execution_count": 12,
     "metadata": {},
     "output_type": "execute_result"
    }
   ],
   "source": [
    "df = sqlContext.read.json(\"./data/results/Tags/part-00000\")\n",
    "df.limit(4).toPandas()"
   ]
  },
  {
   "cell_type": "markdown",
   "metadata": {},
   "source": [
    "Interesuje nas kolumna TagName i Count. Posortujemy je w/g malejącej wartości Count."
   ]
  },
  {
   "cell_type": "code",
   "execution_count": 13,
   "metadata": {
    "collapsed": false
   },
   "outputs": [
    {
     "data": {
      "text/html": [
       "<div>\n",
       "<table border=\"1\" class=\"dataframe\">\n",
       "  <thead>\n",
       "    <tr style=\"text-align: right;\">\n",
       "      <th></th>\n",
       "      <th>TagName</th>\n",
       "      <th>Count</th>\n",
       "    </tr>\n",
       "  </thead>\n",
       "  <tbody>\n",
       "    <tr>\n",
       "      <th>0</th>\n",
       "      <td>sql-server</td>\n",
       "      <td>17351</td>\n",
       "    </tr>\n",
       "    <tr>\n",
       "      <th>1</th>\n",
       "      <td>mysql</td>\n",
       "      <td>13032</td>\n",
       "    </tr>\n",
       "    <tr>\n",
       "      <th>2</th>\n",
       "      <td>sql</td>\n",
       "      <td>7966</td>\n",
       "    </tr>\n",
       "    <tr>\n",
       "      <th>3</th>\n",
       "      <td>postgresql</td>\n",
       "      <td>6160</td>\n",
       "    </tr>\n",
       "    <tr>\n",
       "      <th>4</th>\n",
       "      <td>oracle</td>\n",
       "      <td>4720</td>\n",
       "    </tr>\n",
       "    <tr>\n",
       "      <th>5</th>\n",
       "      <td>database-design</td>\n",
       "      <td>3517</td>\n",
       "    </tr>\n",
       "    <tr>\n",
       "      <th>6</th>\n",
       "      <td>sql-server-2008</td>\n",
       "      <td>3433</td>\n",
       "    </tr>\n",
       "    <tr>\n",
       "      <th>7</th>\n",
       "      <td>sql-server-2008-r2</td>\n",
       "      <td>3264</td>\n",
       "    </tr>\n",
       "    <tr>\n",
       "      <th>8</th>\n",
       "      <td>sql-server-2012</td>\n",
       "      <td>3199</td>\n",
       "    </tr>\n",
       "    <tr>\n",
       "      <th>9</th>\n",
       "      <td>performance</td>\n",
       "      <td>2066</td>\n",
       "    </tr>\n",
       "  </tbody>\n",
       "</table>\n",
       "</div>"
      ],
      "text/plain": [
       "              TagName  Count\n",
       "0          sql-server  17351\n",
       "1               mysql  13032\n",
       "2                 sql   7966\n",
       "3          postgresql   6160\n",
       "4              oracle   4720\n",
       "5     database-design   3517\n",
       "6     sql-server-2008   3433\n",
       "7  sql-server-2008-r2   3264\n",
       "8     sql-server-2012   3199\n",
       "9         performance   2066"
      ]
     },
     "execution_count": 13,
     "metadata": {},
     "output_type": "execute_result"
    }
   ],
   "source": [
    "from pyspark.sql.functions import col\n",
    "\n",
    "new_df=df.select(\"TagName\", \"Count\") \\\n",
    "    .withColumn(\"Count\", df[\"Count\"].cast('int')) \\\n",
    "    .sort(col(\"Count\").desc())\n",
    "new_df.limit(10).toPandas()"
   ]
  },
  {
   "cell_type": "markdown",
   "metadata": {},
   "source": [
    "Jak widać najpopularniejszymi technologiami są: \"sql-server\", \"mysql\", \"postgres\", oraz \"oracle\". Chcielibyśmy jednak aby np. sql-server-2008 był zaklasyfikowany jako technologia sql-server. Oprócz tego np.: \"rman\" jest narzędziem Oracle do buck-up'ów, \"t-sql\" językiem programowania w środowisku sql-server, a \"pgadmin\" i \"phpmyadmin\" to popularne klienty bazy postgres. Aby ustandaryzować tagi, korzystając z wiedzy domenowej zbudujemy słownik tłumaczący różne tagi związane z daną technologią na tag danej technologii:"
   ]
  },
  {
   "cell_type": "code",
   "execution_count": 14,
   "metadata": {
    "collapsed": true
   },
   "outputs": [],
   "source": [
    "tag_dict = {\n",
    "    \"mysql.*\": \"mysql\",\n",
    "    \"innodb\": \"mysql\",\n",
    "    \"myisam\": \"mysql\",\n",
    "    \"sql-server.*\": \"sql-server\",\n",
    "    \"ssms\": \"sql-server\",\n",
    "    \"ssis\": \"sql-server\",\n",
    "    \"t-sql\": \"sql-server\",\n",
    "    \"postgresql.*\": \"postgres\",\n",
    "    \"oracle.*\": \"oracle\",\n",
    "    \"document-oriented\":\"mongodb\",\n",
    "    \"phpmyadmin\": \"postgres\",\n",
    "    \"plsql\": \"oracle\",\n",
    "    \"plpgsql\": \"postgres\",\n",
    "    \"sqlplus\": \"oracle\",\n",
    "    \"rman\": \"oracle\",\n",
    "    \"pgadmin\": \"postgres\",\n",
    "    \"windows-server.*\":\"sql-server\",\n",
    "    \"pg-dump\": \"postgres\",\n",
    "    \"psql\": \"postgres\",\n",
    "    \"postgis\": \"postgres\",\n",
    "    \"nosql\": \"mongodb\",\n",
    "    \"mongo.*\": \"mongodb\"\n",
    "        }"
   ]
  },
  {
   "cell_type": "markdown",
   "metadata": {},
   "source": [
    "Aby ustandaryzować tagi w/g powyższego słownika stworzymy funkcję operującą na kolumnie TagName:"
   ]
  },
  {
   "cell_type": "code",
   "execution_count": 15,
   "metadata": {
    "collapsed": true
   },
   "outputs": [],
   "source": [
    "import pyspark.sql.functions as func\n",
    "def standardize_tags(col):\n",
    "    for i in tag_dict:\n",
    "        col=func.regexp_replace(col, i, tag_dict[i])\n",
    "    return col\n",
    "#lista unikatowych tagów po standaryzacji\n",
    "tag_list=list(tag_dict.values())"
   ]
  },
  {
   "cell_type": "code",
   "execution_count": 16,
   "metadata": {
    "collapsed": false,
    "scrolled": true
   },
   "outputs": [
    {
     "data": {
      "text/html": [
       "<div>\n",
       "<table border=\"1\" class=\"dataframe\">\n",
       "  <thead>\n",
       "    <tr style=\"text-align: right;\">\n",
       "      <th></th>\n",
       "      <th>TagName</th>\n",
       "      <th>Count</th>\n",
       "      <th>TagName_std</th>\n",
       "    </tr>\n",
       "  </thead>\n",
       "  <tbody>\n",
       "    <tr>\n",
       "      <th>0</th>\n",
       "      <td>sql-server</td>\n",
       "      <td>17351</td>\n",
       "      <td>sql-server</td>\n",
       "    </tr>\n",
       "    <tr>\n",
       "      <th>1</th>\n",
       "      <td>mysql</td>\n",
       "      <td>13032</td>\n",
       "      <td>mysql</td>\n",
       "    </tr>\n",
       "    <tr>\n",
       "      <th>2</th>\n",
       "      <td>postgresql</td>\n",
       "      <td>6160</td>\n",
       "      <td>postgres</td>\n",
       "    </tr>\n",
       "    <tr>\n",
       "      <th>3</th>\n",
       "      <td>oracle</td>\n",
       "      <td>4720</td>\n",
       "      <td>oracle</td>\n",
       "    </tr>\n",
       "    <tr>\n",
       "      <th>4</th>\n",
       "      <td>sql-server-2008</td>\n",
       "      <td>3433</td>\n",
       "      <td>sql-server</td>\n",
       "    </tr>\n",
       "    <tr>\n",
       "      <th>5</th>\n",
       "      <td>sql-server-2008-r2</td>\n",
       "      <td>3264</td>\n",
       "      <td>sql-server</td>\n",
       "    </tr>\n",
       "    <tr>\n",
       "      <th>6</th>\n",
       "      <td>sql-server-2012</td>\n",
       "      <td>3199</td>\n",
       "      <td>sql-server</td>\n",
       "    </tr>\n",
       "    <tr>\n",
       "      <th>7</th>\n",
       "      <td>t-sql</td>\n",
       "      <td>1552</td>\n",
       "      <td>sql-server</td>\n",
       "    </tr>\n",
       "    <tr>\n",
       "      <th>8</th>\n",
       "      <td>innodb</td>\n",
       "      <td>1492</td>\n",
       "      <td>mysql</td>\n",
       "    </tr>\n",
       "    <tr>\n",
       "      <th>9</th>\n",
       "      <td>sql-server-2014</td>\n",
       "      <td>1467</td>\n",
       "      <td>sql-server</td>\n",
       "    </tr>\n",
       "  </tbody>\n",
       "</table>\n",
       "</div>"
      ],
      "text/plain": [
       "              TagName  Count TagName_std\n",
       "0          sql-server  17351  sql-server\n",
       "1               mysql  13032       mysql\n",
       "2          postgresql   6160    postgres\n",
       "3              oracle   4720      oracle\n",
       "4     sql-server-2008   3433  sql-server\n",
       "5  sql-server-2008-r2   3264  sql-server\n",
       "6     sql-server-2012   3199  sql-server\n",
       "7               t-sql   1552  sql-server\n",
       "8              innodb   1492       mysql\n",
       "9     sql-server-2014   1467  sql-server"
      ]
     },
     "execution_count": 16,
     "metadata": {},
     "output_type": "execute_result"
    }
   ],
   "source": [
    "df_standard = new_df \\\n",
    ".withColumn('TagName_std', standardize_tags('TagName'))\n",
    "#odfiltrujmy tagi nie znajdujące się w słowniku\n",
    "df_filtered = df_standard \\\n",
    ".filter(df_standard.TagName_std.isin(tag_list)==True)\n",
    "df_filtered.limit(10).toPandas()"
   ]
  },
  {
   "cell_type": "markdown",
   "metadata": {},
   "source": [
    "Przeanalizujmy top 5 technologii pod względem ilości traktujących o niej postów."
   ]
  },
  {
   "cell_type": "code",
   "execution_count": 17,
   "metadata": {
    "collapsed": false,
    "scrolled": true
   },
   "outputs": [
    {
     "data": {
      "image/png": "[encoded data removed]",
      "text/plain": [
       "<matplotlib.figure.Figure at 0x1c2084f5cf8>"
      ]
     },
     "metadata": {},
     "output_type": "display_data"
    }
   ],
   "source": [
    "df_aggr=df_filtered.groupBy(\"TagName_std\") \\\n",
    ".agg(func.sum(\"Count\")).sort(col(\"sum(Count)\").desc())\n",
    "\n",
    "%matplotlib inline\n",
    "pdf=df_aggr.toPandas().plot(x=\"TagName_std\", y=\"sum(Count)\", kind=\"bar\")"
   ]
  },
  {
   "cell_type": "markdown",
   "metadata": {},
   "source": [
    "Widzimy, że na piątym miejscu znalazło sie MongoDB. Ponieważ zdecydowanie odstaje od pozostałych technologii pod wzgledem popularności oraz jako jedyna baza typu NoSQL nie jest skierowana to tego samego targetu rynkowego co pozostałe bazy, w dalszej analizie zostanie pominięta."
   ]
  },
  {
   "cell_type": "markdown",
   "metadata": {},
   "source": [
    "## 3.2 Posty\n",
    "Przyjżyjmy się tabeli Posts. Zrzutujmy kolumny wczytane z formatu parquet na odpowiednie typy danych."
   ]
  },
  {
   "cell_type": "code",
   "execution_count": 18,
   "metadata": {
    "collapsed": false,
    "scrolled": true
   },
   "outputs": [
    {
     "data": {
      "text/html": [
       "<div>\n",
       "<table border=\"1\" class=\"dataframe\">\n",
       "  <thead>\n",
       "    <tr style=\"text-align: right;\">\n",
       "      <th></th>\n",
       "      <th>Id</th>\n",
       "      <th>Tags</th>\n",
       "      <th>CreationDate</th>\n",
       "      <th>LastEditDate</th>\n",
       "    </tr>\n",
       "  </thead>\n",
       "  <tbody>\n",
       "    <tr>\n",
       "      <th>0</th>\n",
       "      <td>1</td>\n",
       "      <td>&lt;mysql&gt;&lt;innodb&gt;&lt;myisam&gt;</td>\n",
       "      <td>2011-01-03</td>\n",
       "      <td>None</td>\n",
       "    </tr>\n",
       "    <tr>\n",
       "      <th>1</th>\n",
       "      <td>2</td>\n",
       "      <td>&lt;mysql&gt;&lt;version-control&gt;&lt;schema&gt;</td>\n",
       "      <td>2011-01-03</td>\n",
       "      <td>2011-01-06</td>\n",
       "    </tr>\n",
       "    <tr>\n",
       "      <th>2</th>\n",
       "      <td>3</td>\n",
       "      <td>&lt;database-design&gt;&lt;erd&gt;</td>\n",
       "      <td>2011-01-03</td>\n",
       "      <td>2011-01-06</td>\n",
       "    </tr>\n",
       "    <tr>\n",
       "      <th>3</th>\n",
       "      <td>4</td>\n",
       "      <td>None</td>\n",
       "      <td>2011-01-03</td>\n",
       "      <td>2013-09-23</td>\n",
       "    </tr>\n",
       "    <tr>\n",
       "      <th>4</th>\n",
       "      <td>5</td>\n",
       "      <td>&lt;nosql&gt;&lt;rdbms&gt;&lt;database-recommendation&gt;</td>\n",
       "      <td>2011-01-03</td>\n",
       "      <td>2011-01-06</td>\n",
       "    </tr>\n",
       "  </tbody>\n",
       "</table>\n",
       "</div>"
      ],
      "text/plain": [
       "   Id                                     Tags CreationDate LastEditDate\n",
       "0   1                  <mysql><innodb><myisam>   2011-01-03         None\n",
       "1   2         <mysql><version-control><schema>   2011-01-03   2011-01-06\n",
       "2   3                   <database-design><erd>   2011-01-03   2011-01-06\n",
       "3   4                                     None   2011-01-03   2013-09-23\n",
       "4   5  <nosql><rdbms><database-recommendation>   2011-01-03   2011-01-06"
      ]
     },
     "execution_count": 18,
     "metadata": {},
     "output_type": "execute_result"
    }
   ],
   "source": [
    "df = sqlContext.read.parquet(\"./data/results/Posts_parquet/Posts.parquet\")\n",
    "tags_df=df \\\n",
    ".select(df[\"Id\"].cast('int'), \n",
    "        df[\"Tags\"], \n",
    "        df[\"CreationDate\"].cast('date'), \n",
    "        df['LastEditDate'].cast('date'))\n",
    "tags_df.limit(5).toPandas()"
   ]
  },
  {
   "cell_type": "markdown",
   "metadata": {},
   "source": [
    "Musimy dokonać podobnej standaryzacji kolumny \"Tags\" jak w przypadku tabeli \"Tags\". W tym przypadku problem jest bardziej skomplikowany ponieważ kolumna może zawierać 0..n tagów w jednym rekordzie. Bedziemy musieli zmodyfikować funkcję standaryzującą. "
   ]
  },
  {
   "cell_type": "code",
   "execution_count": 19,
   "metadata": {
    "collapsed": true
   },
   "outputs": [],
   "source": [
    "def standardize_tags(tag_list):\n",
    "    import re\n",
    "    tags_std = tag_list\n",
    "    for key, value in tag_dict.items():\n",
    "        regex = re.compile(key, re.IGNORECASE)\n",
    "        tags_std=[regex.sub(value, tag) for tag in tags_std]\n",
    "    return tags_std"
   ]
  },
  {
   "cell_type": "markdown",
   "metadata": {},
   "source": [
    "Odfiltrujmy rekordy nie zawierające żadnego tagu (\"None\") i przekształcimy zawartość kolumny do formatu zbioru tagów."
   ]
  },
  {
   "cell_type": "code",
   "execution_count": 20,
   "metadata": {
    "collapsed": false
   },
   "outputs": [
    {
     "data": {
      "text/plain": [
       "127212"
      ]
     },
     "execution_count": 20,
     "metadata": {},
     "output_type": "execute_result"
    }
   ],
   "source": [
    "tags_rdd=tags_df.rdd\n",
    "tags_rdd.count()"
   ]
  },
  {
   "cell_type": "code",
   "execution_count": 21,
   "metadata": {
    "collapsed": false
   },
   "outputs": [
    {
     "data": {
      "text/plain": [
       "53664"
      ]
     },
     "execution_count": 21,
     "metadata": {},
     "output_type": "execute_result"
    }
   ],
   "source": [
    "tags_not_empty=tags_rdd.filter(lambda x: x[1]!=None)\n",
    "tags_not_empty.count()"
   ]
  },
  {
   "cell_type": "code",
   "execution_count": 22,
   "metadata": {
    "collapsed": false
   },
   "outputs": [
    {
     "data": {
      "text/plain": [
       "[(1, {'mysql'}, datetime.date(2011, 1, 3), None),\n",
       " (2,\n",
       "  {'mysql', 'schema', 'version-control'},\n",
       "  datetime.date(2011, 1, 3),\n",
       "  datetime.date(2011, 1, 6)),\n",
       " (3,\n",
       "  {'database-design', 'erd'},\n",
       "  datetime.date(2011, 1, 3),\n",
       "  datetime.date(2011, 1, 6)),\n",
       " (5,\n",
       "  {'database-recommendation', 'mongodb', 'rdbms'},\n",
       "  datetime.date(2011, 1, 3),\n",
       "  datetime.date(2011, 1, 6))]"
      ]
     },
     "execution_count": 22,
     "metadata": {},
     "output_type": "execute_result"
    }
   ],
   "source": [
    "#usuwanie niepotrzebnych znaków\n",
    "tags_clean=tags_not_empty \\\n",
    ".map(lambda x: (x[0], x[1].replace('><',', '), x[2], x[3])) \\\n",
    ".map(lambda x: (x[0], x[1].replace('<', ''), x[2], x[3])) \\\n",
    ".map(lambda x: (x[0], x[1].replace('>', ''), x[2], x[3]))\n",
    "#podział ciągu znaków na elementy listy\n",
    "tags_split=tags_clean \\\n",
    ".map(lambda x: (x[0], x[1].split(','), x[2], x[3])) \\\n",
    ".map(lambda x: (x[0], [e.strip() for e in x[1]], x[2], x[3]))\n",
    "#standaryzowanie tagów\n",
    "tags_standardized=tags_split \\\n",
    ".map(lambda x: (x[0], standardize_tags(x[1]), x[2], x[3]))\n",
    "#przekształcenie listy tagów na zbiór do dalszych operacji\n",
    "tags_unique = tags_standardized \\\n",
    ".map(lambda x: (x[0],set(x[1]), x[2], x[3]))\n",
    "\n",
    "tags_unique.take(4)"
   ]
  },
  {
   "cell_type": "code",
   "execution_count": 23,
   "metadata": {
    "collapsed": false
   },
   "outputs": [
    {
     "data": {
      "text/plain": [
       "{'mongodb', 'mysql', 'oracle', 'postgres', 'sql-server'}"
      ]
     },
     "execution_count": 23,
     "metadata": {},
     "output_type": "execute_result"
    }
   ],
   "source": [
    "#unikatowe tagi w słowniku standaryzującym\n",
    "unique_tags=set(tag_dict.values())\n",
    "unique_tags"
   ]
  },
  {
   "cell_type": "markdown",
   "metadata": {},
   "source": [
    "Odfiltrowanie rekordów które nie zawierają żadnego z tagów w słowniku"
   ]
  },
  {
   "cell_type": "code",
   "execution_count": 24,
   "metadata": {
    "collapsed": false
   },
   "outputs": [
    {
     "data": {
      "text/plain": [
       "[(1, {'mysql'}, datetime.date(2011, 1, 3), None),\n",
       " (2, {'mysql'}, datetime.date(2011, 1, 3), datetime.date(2011, 1, 6)),\n",
       " (5, {'mongodb'}, datetime.date(2011, 1, 3), datetime.date(2011, 1, 6)),\n",
       " (6, {'postgres'}, datetime.date(2011, 1, 3), datetime.date(2011, 8, 16))]"
      ]
     },
     "execution_count": 24,
     "metadata": {},
     "output_type": "execute_result"
    }
   ],
   "source": [
    "post_tags_meaningful = tags_unique \\\n",
    ".map(lambda x: (x[0],x[1].intersection(unique_tags), x[2], x[3])) \\\n",
    ".filter(lambda x: bool(x[1]))\n",
    "post_tags_meaningful.take(4)"
   ]
  },
  {
   "cell_type": "markdown",
   "metadata": {},
   "source": [
    "Musimy jeszcze poradzić sobie z rekordami zawierającymi więcej niż jeden tag z zakresu naszego zainteresowania, na przykład:"
   ]
  },
  {
   "cell_type": "code",
   "execution_count": 25,
   "metadata": {
    "collapsed": false
   },
   "outputs": [
    {
     "data": {
      "text/plain": [
       "[(96,\n",
       "  {'mysql', 'postgres'},\n",
       "  datetime.date(2011, 1, 4),\n",
       "  datetime.date(2011, 8, 16)),\n",
       " (287, {'oracle', 'sql-server'}, datetime.date(2011, 1, 5), None),\n",
       " (297,\n",
       "  {'oracle', 'sql-server'},\n",
       "  datetime.date(2011, 1, 5),\n",
       "  datetime.date(2011, 1, 10))]"
      ]
     },
     "execution_count": 25,
     "metadata": {},
     "output_type": "execute_result"
    }
   ],
   "source": [
    "common_tags = post_tags_meaningful.filter(lambda x: len(x[1])>1)\n",
    "common_tags.take(3)"
   ]
  },
  {
   "cell_type": "markdown",
   "metadata": {},
   "source": [
    "Najpierw narzućmy typy danych w naszym RDD i zrzućmy na dysk stransformowaną wersję danych do dalszej obróki"
   ]
  },
  {
   "cell_type": "code",
   "execution_count": 26,
   "metadata": {
    "collapsed": false
   },
   "outputs": [
    {
     "name": "stdout",
     "output_type": "stream",
     "text": [
      "+---+----------+------------+------------+\n",
      "| Id|      Tags|CreationDate|LastEditDate|\n",
      "+---+----------+------------+------------+\n",
      "|  1|   [mysql]|  2011-01-03|  2017-05-28|\n",
      "|  2|   [mysql]|  2011-01-03|  2011-01-06|\n",
      "|  5| [mongodb]|  2011-01-03|  2011-01-06|\n",
      "|  6|[postgres]|  2011-01-03|  2011-08-16|\n",
      "| 14|   [mysql]|  2011-01-03|  2011-08-16|\n",
      "+---+----------+------------+------------+\n",
      "only showing top 5 rows\n",
      "\n"
     ]
    }
   ],
   "source": [
    "from pyspark.sql.types import *\n",
    "from pyspark.sql.functions import when\n",
    "import datetime\n",
    "\n",
    "post_tags_to_write=post_tags_meaningful \\\n",
    ".map(lambda x: (x[0],list(x[1]), x[2], x[3]))\n",
    "\n",
    "fields = [\n",
    "    StructField('Id', IntegerType(), True),\n",
    "    StructField('Tags', ArrayType(StringType(), True), True),\n",
    "    StructField('CreationDate', DateType(), True),\n",
    "    StructField('LastEditDate', DateType(), True)]\n",
    "schema = StructType(fields)\n",
    "df=sqlContext.createDataFrame(post_tags_to_write, schema, samplingRatio = 0.1)\n",
    "df_filled = df \\\n",
    ".withColumn('LastEditDate', when(\n",
    "        col('LastEditDate').isNull(), datetime.date.today()).otherwise(col('LastEditDate')))\n",
    "df_filled.show(5)"
   ]
  },
  {
   "cell_type": "code",
   "execution_count": 28,
   "metadata": {
    "collapsed": false
   },
   "outputs": [],
   "source": [
    "#df_filled.coalesce(1).write.parquet(\"data/results/Posts_clean_parquet\")"
   ]
  },
  {
   "cell_type": "markdown",
   "metadata": {},
   "source": [
    "Użyjemy funkcji explode żeby z rekordu z dwoma tagami utworzyć 2 rekordy z każdym tagiem z osobna"
   ]
  },
  {
   "cell_type": "code",
   "execution_count": 29,
   "metadata": {
    "collapsed": false,
    "scrolled": true
   },
   "outputs": [],
   "source": [
    "posts = sqlContext.read.parquet(\"./data/results/Posts_clean_parquet/Posts.parquet\")\n",
    "from pyspark.sql.functions import explode\n",
    "posts=posts.select('Id', explode(col('Tags')).alias('Tag'), 'CreationDate', 'LastEditDate')"
   ]
  },
  {
   "cell_type": "markdown",
   "metadata": {},
   "source": [
    "Stworzymy wykres ilustrujący ilość tworzonych postów w ciągu roku aby zbadać ogólny trend dla konkretnej technologii. W tym celu dokonamy kilku przeksztaceń:"
   ]
  },
  {
   "cell_type": "code",
   "execution_count": 30,
   "metadata": {
    "collapsed": true
   },
   "outputs": [],
   "source": [
    "posts_for_df=posts.filter('Tag = \"sql-server\"') \\\n",
    ".filter(\"CreationDate < cast('2017-01-01' as date)\") \\\n",
    ".filter(\"CreationDate > cast('2011-01-01' as date)\") \\\n",
    ".select('CreationDate').sort(col('CreationDate'))"
   ]
  },
  {
   "cell_type": "code",
   "execution_count": 31,
   "metadata": {
    "collapsed": false,
    "scrolled": true
   },
   "outputs": [
    {
     "data": {
      "text/html": [
       "<div>\n",
       "<table border=\"1\" class=\"dataframe\">\n",
       "  <thead>\n",
       "    <tr style=\"text-align: right;\">\n",
       "      <th></th>\n",
       "      <th>CreationDate</th>\n",
       "    </tr>\n",
       "  </thead>\n",
       "  <tbody>\n",
       "    <tr>\n",
       "      <th>0</th>\n",
       "      <td>2011-01-03</td>\n",
       "    </tr>\n",
       "    <tr>\n",
       "      <th>1</th>\n",
       "      <td>2011-01-03</td>\n",
       "    </tr>\n",
       "    <tr>\n",
       "      <th>2</th>\n",
       "      <td>2011-01-03</td>\n",
       "    </tr>\n",
       "    <tr>\n",
       "      <th>3</th>\n",
       "      <td>2011-01-03</td>\n",
       "    </tr>\n",
       "    <tr>\n",
       "      <th>4</th>\n",
       "      <td>2011-01-04</td>\n",
       "    </tr>\n",
       "  </tbody>\n",
       "</table>\n",
       "</div>"
      ],
      "text/plain": [
       "  CreationDate\n",
       "0   2011-01-03\n",
       "1   2011-01-03\n",
       "2   2011-01-03\n",
       "3   2011-01-03\n",
       "4   2011-01-04"
      ]
     },
     "execution_count": 31,
     "metadata": {},
     "output_type": "execute_result"
    }
   ],
   "source": [
    "df=posts_for_df.toPandas()\n",
    "df[:5]"
   ]
  },
  {
   "cell_type": "code",
   "execution_count": 34,
   "metadata": {
    "collapsed": true
   },
   "outputs": [],
   "source": [
    "from matplotlib import pyplot as plt \n",
    "import seaborn as sns\n",
    "plt.style.use('fivethirtyeight')"
   ]
  },
  {
   "cell_type": "code",
   "execution_count": 40,
   "metadata": {
    "collapsed": false,
    "scrolled": false
   },
   "outputs": [
    {
     "data": {
      "text/plain": [
       "<matplotlib.axes._subplots.AxesSubplot at 0x1c20abf7358>"
      ]
     },
     "execution_count": 40,
     "metadata": {},
     "output_type": "execute_result"
    },
    {
     "data": {
      "image/png": "[encoded data removed]",
      "text/plain": [
       "<matplotlib.figure.Figure at 0x1c20aacc588>"
      ]
     },
     "metadata": {},
     "output_type": "display_data"
    }
   ],
   "source": [
    "import pandas as pd\n",
    "df['CreationDate']=pd.to_datetime(df['CreationDate'], format= '%Y-%m-%d')\n",
    "df.groupby(df[\"CreationDate\"].dt.year).count().plot(kind=\"bar\")"
   ]
  },
  {
   "cell_type": "code",
   "execution_count": 41,
   "metadata": {
    "collapsed": false
   },
   "outputs": [
    {
     "data": {
      "text/plain": [
       "<matplotlib.axes._subplots.AxesSubplot at 0x1c20aacc9b0>"
      ]
     },
     "execution_count": 41,
     "metadata": {},
     "output_type": "execute_result"
    },
    {
     "data": {
      "image/png": "[encoded data removed]",
      "text/plain": [
       "<matplotlib.figure.Figure at 0x1c20ac611d0>"
      ]
     },
     "metadata": {},
     "output_type": "display_data"
    }
   ],
   "source": [
    "df.groupby([df[\"CreationDate\"].dt.year, df[\"CreationDate\"].dt.month]).count().plot(kind=\"line\")"
   ]
  },
  {
   "cell_type": "markdown",
   "metadata": {},
   "source": [
    "# 4. Analiza trendu\n",
    "Źeby skwantyfikować wzrost popularności danej technologii oraz dokonać predykcji trendu na przyszłość skorzystamy z algorytmu regresji liniowej. Poziom granulacji na jakim będziemy badać trend ustalmy na miesiąc."
   ]
  },
  {
   "cell_type": "code",
   "execution_count": 42,
   "metadata": {
    "collapsed": false
   },
   "outputs": [],
   "source": [
    "import datetime\n",
    "from pyspark.sql.functions import date_format\n",
    "\n",
    "posts_aggr=posts.filter('Tag = \"sql-server\"') \\\n",
    ".filter(\"CreationDate < cast('2017-01-01' as date)\") \\\n",
    ".filter(\"CreationDate > cast('2011-01-01' as date)\") \\\n",
    ".select('CreationDate') \\\n",
    ".groupBy(date_format('CreationDate', 'YYYY-MM') \\\n",
    "                                .alias('CreationMonth')) \\\n",
    ".agg({'CreationDate' : 'count'}) \\\n",
    ".select(col('CreationMonth').cast('date'), col('count(CreationDate)') \\\n",
    "        .alias('PostCount')) \\\n",
    ".orderBy('CreationMonth')"
   ]
  },
  {
   "cell_type": "code",
   "execution_count": 43,
   "metadata": {
    "collapsed": false
   },
   "outputs": [
    {
     "data": {
      "text/html": [
       "<div>\n",
       "<table border=\"1\" class=\"dataframe\">\n",
       "  <thead>\n",
       "    <tr style=\"text-align: right;\">\n",
       "      <th></th>\n",
       "      <th>CreationMonth</th>\n",
       "      <th>PostCount</th>\n",
       "    </tr>\n",
       "  </thead>\n",
       "  <tbody>\n",
       "    <tr>\n",
       "      <th>0</th>\n",
       "      <td>2011-01-01</td>\n",
       "      <td>97</td>\n",
       "    </tr>\n",
       "    <tr>\n",
       "      <th>1</th>\n",
       "      <td>2011-02-01</td>\n",
       "      <td>75</td>\n",
       "    </tr>\n",
       "    <tr>\n",
       "      <th>2</th>\n",
       "      <td>2011-03-01</td>\n",
       "      <td>80</td>\n",
       "    </tr>\n",
       "    <tr>\n",
       "      <th>3</th>\n",
       "      <td>2011-04-01</td>\n",
       "      <td>61</td>\n",
       "    </tr>\n",
       "    <tr>\n",
       "      <th>4</th>\n",
       "      <td>2011-05-01</td>\n",
       "      <td>78</td>\n",
       "    </tr>\n",
       "  </tbody>\n",
       "</table>\n",
       "</div>"
      ],
      "text/plain": [
       "  CreationMonth  PostCount\n",
       "0    2011-01-01         97\n",
       "1    2011-02-01         75\n",
       "2    2011-03-01         80\n",
       "3    2011-04-01         61\n",
       "4    2011-05-01         78"
      ]
     },
     "execution_count": 43,
     "metadata": {},
     "output_type": "execute_result"
    }
   ],
   "source": [
    "posts_aggr.limit(5).toPandas()"
   ]
  },
  {
   "cell_type": "code",
   "execution_count": 44,
   "metadata": {
    "collapsed": false,
    "scrolled": true
   },
   "outputs": [
    {
     "data": {
      "text/plain": [
       "[('CreationMonth', 'date'), ('PostCount', 'bigint')]"
      ]
     },
     "execution_count": 44,
     "metadata": {},
     "output_type": "execute_result"
    }
   ],
   "source": [
    "posts_aggr.dtypes"
   ]
  },
  {
   "cell_type": "markdown",
   "metadata": {},
   "source": [
    "Na potrzeby modelu liniowej regresji potrzebujemy przekształcić wartość typu \"date\" na wartość typu \"int\". Użyjemy do tego formatu daty typu unix_timestamp, czyli epoch (sekundy od 1970-01-01)"
   ]
  },
  {
   "cell_type": "code",
   "execution_count": 47,
   "metadata": {
    "collapsed": false
   },
   "outputs": [
    {
     "name": "stdout",
     "output_type": "stream",
     "text": [
      "+-------------+---------+\n",
      "|CreationMonth|PostCount|\n",
      "+-------------+---------+\n",
      "|   1293836400|       97|\n",
      "|   1296514800|       75|\n",
      "|   1298934000|       80|\n",
      "|   1301608800|       61|\n",
      "|   1304200800|       78|\n",
      "+-------------+---------+\n",
      "only showing top 5 rows\n",
      "\n"
     ]
    }
   ],
   "source": [
    "from pyspark.sql.functions import unix_timestamp\n",
    "posts_aggr_cast=posts_aggr \\\n",
    ".select(col('CreationMonth'), col('PostCount')) \\\n",
    ".withColumn(\n",
    "    'CreationMonth', unix_timestamp(posts_aggr.CreationMonth, 'yyyy-MM-dd'))\n",
    "posts_aggr_cast.show(5)"
   ]
  },
  {
   "cell_type": "code",
   "execution_count": 48,
   "metadata": {
    "collapsed": false
   },
   "outputs": [
    {
     "data": {
      "text/plain": [
       "[('CreationMonth', 'bigint'), ('PostCount', 'bigint')]"
      ]
     },
     "execution_count": 48,
     "metadata": {},
     "output_type": "execute_result"
    }
   ],
   "source": [
    "posts_aggr_cast.dtypes"
   ]
  },
  {
   "cell_type": "markdown",
   "metadata": {},
   "source": [
    "Teraz, tak przygotowane dane możemy podać do modelu liniowej regresji:"
   ]
  },
  {
   "cell_type": "code",
   "execution_count": 50,
   "metadata": {
    "collapsed": false
   },
   "outputs": [
    {
     "data": {
      "text/html": [
       "<div>\n",
       "<table border=\"1\" class=\"dataframe\">\n",
       "  <thead>\n",
       "    <tr style=\"text-align: right;\">\n",
       "      <th></th>\n",
       "      <th>CreationMonth</th>\n",
       "      <th>PostCount</th>\n",
       "      <th>features</th>\n",
       "      <th>label</th>\n",
       "    </tr>\n",
       "  </thead>\n",
       "  <tbody>\n",
       "    <tr>\n",
       "      <th>0</th>\n",
       "      <td>1293836400</td>\n",
       "      <td>97</td>\n",
       "      <td>[1293836400.0]</td>\n",
       "      <td>97</td>\n",
       "    </tr>\n",
       "    <tr>\n",
       "      <th>1</th>\n",
       "      <td>1296514800</td>\n",
       "      <td>75</td>\n",
       "      <td>[1296514800.0]</td>\n",
       "      <td>75</td>\n",
       "    </tr>\n",
       "    <tr>\n",
       "      <th>2</th>\n",
       "      <td>1298934000</td>\n",
       "      <td>80</td>\n",
       "      <td>[1298934000.0]</td>\n",
       "      <td>80</td>\n",
       "    </tr>\n",
       "    <tr>\n",
       "      <th>3</th>\n",
       "      <td>1301608800</td>\n",
       "      <td>61</td>\n",
       "      <td>[1301608800.0]</td>\n",
       "      <td>61</td>\n",
       "    </tr>\n",
       "    <tr>\n",
       "      <th>4</th>\n",
       "      <td>1304200800</td>\n",
       "      <td>78</td>\n",
       "      <td>[1304200800.0]</td>\n",
       "      <td>78</td>\n",
       "    </tr>\n",
       "  </tbody>\n",
       "</table>\n",
       "</div>"
      ],
      "text/plain": [
       "   CreationMonth  PostCount        features  label\n",
       "0     1293836400         97  [1293836400.0]     97\n",
       "1     1296514800         75  [1296514800.0]     75\n",
       "2     1298934000         80  [1298934000.0]     80\n",
       "3     1301608800         61  [1301608800.0]     61\n",
       "4     1304200800         78  [1304200800.0]     78"
      ]
     },
     "execution_count": 50,
     "metadata": {},
     "output_type": "execute_result"
    }
   ],
   "source": [
    "from pyspark.ml.feature import VectorAssembler\n",
    "t = VectorAssembler(inputCols=['CreationMonth'], outputCol = 'features')\n",
    "training = t.transform(posts_aggr_cast)\\\n",
    "            .withColumn('CreationMonth',posts_aggr_cast.CreationMonth)\\\n",
    "            .withColumn('label',posts_aggr_cast.PostCount)\n",
    "        \n",
    "training.toPandas()[:5]"
   ]
  },
  {
   "cell_type": "code",
   "execution_count": 51,
   "metadata": {
    "collapsed": true
   },
   "outputs": [],
   "source": [
    "from pyspark.sql.types import Row\n",
    "\n",
    "#dane treningowe\n",
    "training_yrs = training.select('CreationMonth').rdd.map(lambda x: x[0]).collect()\n",
    "training_y = training.select('PostCount').rdd.map(lambda x: x[0]).collect()"
   ]
  },
  {
   "cell_type": "markdown",
   "metadata": {},
   "source": [
    "Stwórzmy liste misięcy dla których chcemy dokonać predykcji trendu. Są to miesiące dla 3 kolejnych lat: 2017, 2018, 2019. Daty musimy przedstawić w formacie typu epoch."
   ]
  },
  {
   "cell_type": "code",
   "execution_count": 52,
   "metadata": {
    "collapsed": true
   },
   "outputs": [],
   "source": [
    "import calendar\n",
    "prediction_yrs=[]\n",
    "for i in range(36):\n",
    "    yrs = 2017 + int(i/12)\n",
    "    mths = i%12 + 1\n",
    "    prediction_yrs \\\n",
    "    .append(calendar.timegm(datetime.date(yrs,mths,1).timetuple()))\n",
    "    \n",
    "all_yrs = training_yrs + prediction_yrs"
   ]
  },
  {
   "cell_type": "markdown",
   "metadata": {},
   "source": [
    "Dopasujmy model liniowej regresji do wykresu otrzymanego na końcu podrozdziału 3.2, żeby zamodelować trend popularności danej technologii na kolejne 3 lata.\n",
    "Zakładam przy tym w miare liniowy wzrost popularności dla 6 lat 2011-2017. Jest to bardzo grube założenie, ale da nam liczbową miarę dzięki której bedziemy mogli porównać trend dla różnych technologii."
   ]
  },
  {
   "cell_type": "code",
   "execution_count": 54,
   "metadata": {
    "collapsed": true
   },
   "outputs": [],
   "source": [
    "from pyspark.ml.regression import LinearRegression\n",
    "lr = LinearRegression(maxIter=10, regParam=0.3, elasticNetParam=0.8)\n",
    "lrModel = lr.fit(training)"
   ]
  },
  {
   "cell_type": "markdown",
   "metadata": {},
   "source": [
    "Przetestujmy działanie modelu na wygenerowanym setcie danych dla przyszłych lat."
   ]
  },
  {
   "cell_type": "code",
   "execution_count": 59,
   "metadata": {
    "collapsed": false
   },
   "outputs": [
    {
     "data": {
      "text/html": [
       "<div>\n",
       "<table border=\"1\" class=\"dataframe\">\n",
       "  <thead>\n",
       "    <tr style=\"text-align: right;\">\n",
       "      <th></th>\n",
       "      <th>CreationMonth</th>\n",
       "      <th>features</th>\n",
       "      <th>prediction</th>\n",
       "    </tr>\n",
       "  </thead>\n",
       "  <tbody>\n",
       "    <tr>\n",
       "      <th>25</th>\n",
       "      <td>1359673200</td>\n",
       "      <td>[1359673200.0]</td>\n",
       "      <td>240.084781</td>\n",
       "    </tr>\n",
       "    <tr>\n",
       "      <th>26</th>\n",
       "      <td>1362092400</td>\n",
       "      <td>[1362092400.0]</td>\n",
       "      <td>244.324363</td>\n",
       "    </tr>\n",
       "    <tr>\n",
       "      <th>27</th>\n",
       "      <td>1364767200</td>\n",
       "      <td>[1364767200.0]</td>\n",
       "      <td>249.011876</td>\n",
       "    </tr>\n",
       "    <tr>\n",
       "      <th>28</th>\n",
       "      <td>1367359200</td>\n",
       "      <td>[1367359200.0]</td>\n",
       "      <td>253.554285</td>\n",
       "    </tr>\n",
       "    <tr>\n",
       "      <th>29</th>\n",
       "      <td>1370037600</td>\n",
       "      <td>[1370037600.0]</td>\n",
       "      <td>258.248108</td>\n",
       "    </tr>\n",
       "    <tr>\n",
       "      <th>30</th>\n",
       "      <td>1372629600</td>\n",
       "      <td>[1372629600.0]</td>\n",
       "      <td>262.790516</td>\n",
       "    </tr>\n",
       "    <tr>\n",
       "      <th>31</th>\n",
       "      <td>1375308000</td>\n",
       "      <td>[1375308000.0]</td>\n",
       "      <td>267.484339</td>\n",
       "    </tr>\n",
       "  </tbody>\n",
       "</table>\n",
       "</div>"
      ],
      "text/plain": [
       "    CreationMonth        features  prediction\n",
       "25     1359673200  [1359673200.0]  240.084781\n",
       "26     1362092400  [1362092400.0]  244.324363\n",
       "27     1364767200  [1364767200.0]  249.011876\n",
       "28     1367359200  [1367359200.0]  253.554285\n",
       "29     1370037600  [1370037600.0]  258.248108\n",
       "30     1372629600  [1372629600.0]  262.790516\n",
       "31     1375308000  [1375308000.0]  267.484339"
      ]
     },
     "execution_count": 59,
     "metadata": {},
     "output_type": "execute_result"
    }
   ],
   "source": [
    "test_rdd = sc.parallelize(all_yrs)\n",
    "row = Row('CreationMonth')\n",
    "all_years_features = t.transform(test_rdd.map(row).toDF())\n",
    "df_results = lrModel.transform(all_years_features).toPandas()\n",
    "df_results[25:32]"
   ]
  },
  {
   "cell_type": "markdown",
   "metadata": {},
   "source": [
    "Wróćmy z formatem dat do czytelnej postaci"
   ]
  },
  {
   "cell_type": "code",
   "execution_count": 63,
   "metadata": {
    "collapsed": false,
    "scrolled": true
   },
   "outputs": [
    {
     "data": {
      "text/html": [
       "<div>\n",
       "<table border=\"1\" class=\"dataframe\">\n",
       "  <thead>\n",
       "    <tr style=\"text-align: right;\">\n",
       "      <th></th>\n",
       "      <th>CreationMonth</th>\n",
       "      <th>features</th>\n",
       "      <th>prediction</th>\n",
       "    </tr>\n",
       "  </thead>\n",
       "  <tbody>\n",
       "    <tr>\n",
       "      <th>5</th>\n",
       "      <td>2011-05-31 22:00:00</td>\n",
       "      <td>[1306879200.0]</td>\n",
       "      <td>147.564748</td>\n",
       "    </tr>\n",
       "    <tr>\n",
       "      <th>6</th>\n",
       "      <td>2011-06-30 22:00:00</td>\n",
       "      <td>[1309471200.0]</td>\n",
       "      <td>152.107156</td>\n",
       "    </tr>\n",
       "    <tr>\n",
       "      <th>7</th>\n",
       "      <td>2011-07-31 22:00:00</td>\n",
       "      <td>[1312149600.0]</td>\n",
       "      <td>156.800979</td>\n",
       "    </tr>\n",
       "    <tr>\n",
       "      <th>8</th>\n",
       "      <td>2011-08-31 22:00:00</td>\n",
       "      <td>[1314828000.0]</td>\n",
       "      <td>161.494801</td>\n",
       "    </tr>\n",
       "    <tr>\n",
       "      <th>9</th>\n",
       "      <td>2011-09-30 22:00:00</td>\n",
       "      <td>[1317420000.0]</td>\n",
       "      <td>166.037210</td>\n",
       "    </tr>\n",
       "  </tbody>\n",
       "</table>\n",
       "</div>"
      ],
      "text/plain": [
       "        CreationMonth        features  prediction\n",
       "5 2011-05-31 22:00:00  [1306879200.0]  147.564748\n",
       "6 2011-06-30 22:00:00  [1309471200.0]  152.107156\n",
       "7 2011-07-31 22:00:00  [1312149600.0]  156.800979\n",
       "8 2011-08-31 22:00:00  [1314828000.0]  161.494801\n",
       "9 2011-09-30 22:00:00  [1317420000.0]  166.037210"
      ]
     },
     "execution_count": 63,
     "metadata": {},
     "output_type": "execute_result"
    }
   ],
   "source": [
    "df_results['CreationMonth']=pd \\\n",
    ".to_datetime(df_results['CreationMonth'], unit='s')\n",
    "df_results[5:10]"
   ]
  },
  {
   "cell_type": "code",
   "execution_count": 65,
   "metadata": {
    "collapsed": false
   },
   "outputs": [
    {
     "data": {
      "text/plain": [
       "[<matplotlib.lines.Line2D at 0x1c20addd4a8>]"
      ]
     },
     "execution_count": 65,
     "metadata": {},
     "output_type": "execute_result"
    },
    {
     "data": {
      "image/png": "[encoded data removed]",
      "text/plain": [
       "<matplotlib.figure.Figure at 0x1c20adae048>"
      ]
     },
     "metadata": {},
     "output_type": "display_data"
    }
   ],
   "source": [
    "plt.plot(\n",
    "    df_results.CreationMonth,\n",
    "    df_results.prediction, \n",
    "    linewidth = 2, \n",
    "    linestyle = '--',\n",
    "    color = '#fc4f30', \n",
    "    label = 'L2 Fit')"
   ]
  }
 ],
 "metadata": {
  "anaconda-cloud": {},
  "kernelspec": {
   "display_name": "Python [conda root]",
   "language": "python",
   "name": "conda-root-py"
  },
  "language_info": {
   "codemirror_mode": {
    "name": "ipython",
    "version": 3
   },
   "file_extension": ".py",
   "mimetype": "text/x-python",
   "name": "python",
   "nbconvert_exporter": "python",
   "pygments_lexer": "ipython3",
   "version": "3.5.2"
  }
 },
 "nbformat": 4,
 "nbformat_minor": 1
}
